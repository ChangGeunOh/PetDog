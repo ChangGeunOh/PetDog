{
  "nbformat": 4,
  "nbformat_minor": 0,
  "metadata": {
    "colab": {
      "provenance": [],
      "authorship_tag": "ABX9TyP6HTkkxk9fdVLyGtYKI7U9",
      "include_colab_link": true
    },
    "kernelspec": {
      "name": "python3",
      "display_name": "Python 3"
    },
    "language_info": {
      "name": "python"
    }
  },
  "cells": [
    {
      "cell_type": "markdown",
      "metadata": {
        "id": "view-in-github",
        "colab_type": "text"
      },
      "source": [
        "<a href=\"https://colab.research.google.com/github/ChangGeunOh/PetDog/blob/main/%5B%ED%95%B4%EC%84%A4%EC%9A%A9%5D_%EB%B0%98%EB%A0%A4%EA%B2%AC_%ED%8A%B9%EC%84%B1%EC%A0%95%EB%B3%B4%EB%A5%BC_%EC%9D%B4%EC%9A%A9%ED%95%9C_%EB%AA%A8%EB%8D%B8%EB%A7%81.ipynb\" target=\"_parent\"><img src=\"https://colab.research.google.com/assets/colab-badge.svg\" alt=\"Open In Colab\"/></a>"
      ]
    },
    {
      "cell_type": "markdown",
      "source": [
        "# **0. 개요**"
      ],
      "metadata": {
        "id": "IuGFbzctYw4R"
      }
    },
    {
      "cell_type": "markdown",
      "source": [
        "## **가. 패키지 설치 및 라이브러리 호출**"
      ],
      "metadata": {
        "id": "rythaGh2ZmSd"
      }
    },
    {
      "cell_type": "code",
      "source": [
        "import warnings\n",
        "# 불필요한 경고 출력을 방지합니다.\n",
        "warnings.filterwarnings('ignore')\n",
        "import subprocess\n",
        "import sys\n",
        "import pandas as pd\n",
        "import numpy as np\n",
        "import pickle\n",
        "import hashlib\n",
        "\n",
        "def install(package):\n",
        "    subprocess.check_call([sys.executable, \"-m\", \"pip\", \"install\", package])\n",
        "\n",
        "install(\"folium\")\n",
        "install(\"seaborn\")\n",
        "install(\"xgboost\")"
      ],
      "metadata": {
        "id": "mSkslUH2Y7Zv"
      },
      "execution_count": null,
      "outputs": []
    },
    {
      "cell_type": "markdown",
      "source": [
        "## **나. 강의 목차**\n",
        "\n",
        "1. 데이터 수집\n",
        "2. 데이터 전처리\n",
        "3. 데이터 시각화\n",
        "4. 모델링\n"
      ],
      "metadata": {
        "id": "eb7CSrk8Z4ZY"
      }
    },
    {
      "cell_type": "code",
      "source": [
        "# aidu 사용을 위한..\n",
        "# SACP AI 포탈과 연계를 위한 기본 객체 생성\n",
        "from aicentro.session import Session\n",
        "sacp_session = Session(verify=False)\n",
        "from aicentro.framework.keras import Keras as SacpFrm\n",
        "sacp_framework = SacpFrm(session=sacp_session)"
      ],
      "metadata": {
        "id": "CSGddoMlZKnH"
      },
      "execution_count": null,
      "outputs": []
    },
    {
      "cell_type": "markdown",
      "source": [
        "# **1. 데이터 수집**\n"
      ],
      "metadata": {
        "id": "qZg3jZ4gaGDs"
      }
    },
    {
      "cell_type": "markdown",
      "source": [
        "## **가. JSON File CSV 변환**"
      ],
      "metadata": {
        "id": "olSuowO2abgr"
      }
    },
    {
      "cell_type": "code",
      "source": [
        "# 데이터 수집을 위한 Library\n",
        "import json\n",
        "from os import makedirs\n",
        "from os.path import exists\n",
        "from pathlib import Path\n",
        "\n",
        "# JSON 파일을 csv 파일로 변환\n",
        "def json_to_csv():\n",
        "    folder_path = \"./pet_dog\"\n",
        "    save_file_path = \"./dog_data.csv\"\n",
        "\n",
        "    folder = Path(folder_path)\n",
        "    save_folder = \"/\".join(save_file_path.split(\"/\")[:-1])\n",
        "\n",
        "    id_keys = ['group', 'breed', 'class', 'age', 'sex']\n",
        "    physical_keys = ['weight', 'shoulder-height', 'neck-size', 'back-length', 'chest-size', 'BCS']\n",
        "    breeding_keys = ['exercise', 'environment', 'defecation', 'food-count', 'food-amount', 'snack-amount', 'food-kind']\n",
        "\n",
        "    if not exists(save_folder):\n",
        "        makedirs(save_folder)\n",
        "\n",
        "    with open(save_file_path, \"w\") as save_file:\n",
        "        if folder.exists() and folder.is_dir():\n",
        "            save_file.write(','.join(id_keys + physical_keys + breeding_keys) + \"\\n\")\n",
        "            for file in folder.glob(\"*.json\"):\n",
        "                with open(file, \"r\", encoding=\"utf-8\") as data_file:\n",
        "                    dog_cat_data = json.load(data_file)\n",
        "                    line = write_line(dog_cat_data['metadata'], id_keys, physical_keys, breeding_keys)\n",
        "                    save_file.write(line + \"\\n\")\n",
        "        else:\n",
        "            print(\"폴더가 존재하지 않거나 올바른 폴더가 아닙니다.\")\n",
        "\n",
        "def write_line(metadata, id_keys, physical_keys, breeding_keys):\n",
        "    id_values = ','.join(str(metadata['id'][key]) for key in id_keys)\n",
        "    physical_values = ','.join(str(metadata['physical'][key]) for key in physical_keys)\n",
        "    breeding_values = ','.join(str(metadata['breeding'][key]) for key in breeding_keys)\n",
        "\n",
        "    return f\"{id_values},{physical_values},{breeding_values}\"\n"
      ],
      "metadata": {
        "id": "MDQUSNbpIjH0"
      },
      "execution_count": null,
      "outputs": []
    },
    {
      "cell_type": "code",
      "source": [
        "# JSON 데이터 변환시 주석 제거\n",
        "\n",
        "# json_to_csv()"
      ],
      "metadata": {
        "id": "u7xoFHEONkmD"
      },
      "execution_count": null,
      "outputs": []
    },
    {
      "cell_type": "code",
      "source": [
        "# 패키지 설치\n",
        "import pandas as pd\n",
        "import numpy as np\n",
        "from sklearn.preprocessing import LabelEncoder, OneHotEncoder\n",
        "from sklearn.model_selection import train_test_split\n",
        "from sklearn.metrics import accuracy_score\n",
        "from sklearn.metrics import classification_report, accuracy_score"
      ],
      "metadata": {
        "id": "Oi63E_-uS4RM"
      },
      "execution_count": null,
      "outputs": []
    },
    {
      "cell_type": "markdown",
      "source": [
        "## **나. 데이터 불러오기**"
      ],
      "metadata": {
        "id": "WrCDSCSGfMop"
      }
    },
    {
      "cell_type": "code",
      "source": [
        "# 실습 코드 : 데이터 읽기 (padas 이용))\n",
        "\n",
        "dog_data = pd.read_csv('dog_data.csv')"
      ],
      "metadata": {
        "id": "VUiUyAHRWYJc"
      },
      "execution_count": null,
      "outputs": []
    },
    {
      "cell_type": "code",
      "source": [
        "# 실습 코드 : 상위 5개 데이터 확인\n",
        "\n",
        "dog_data.head()"
      ],
      "metadata": {
        "colab": {
          "base_uri": "https://localhost:8080/",
          "height": 206
        },
        "id": "Oz-wOA5VWxxj",
        "outputId": "e9696cb1-42c3-4422-ed31-2333f6e007cf"
      },
      "execution_count": null,
      "outputs": [
        {
          "output_type": "execute_result",
          "data": {
            "text/plain": [
              "  group breed class  age sex  weight  shoulder-height  neck-size  back-length  \\\n",
              "0    SS   POO    SH  3.0  IF     1.0             23.0       17.0         29.0   \n",
              "1    SS   POO    SH  4.0  IF     3.0             28.0       19.0         35.0   \n",
              "2    SL   BIC    LH  2.0  IF     2.0             20.0       20.0         27.0   \n",
              "3    SL   POM    LH  2.0  IM     3.0             22.5       21.0         28.0   \n",
              "4    LL   SHE    LH  1.0  IM    12.0             45.0       32.0         44.0   \n",
              "\n",
              "   chest-size  BCS  exercise  environment  defecation  food-count  \\\n",
              "0        29.0    5         3            1           1           1   \n",
              "1        33.0    5         3            1           1           2   \n",
              "2        31.0    5         3            2           1           4   \n",
              "3        32.0    4         3            1           1           2   \n",
              "4        53.0    5         3            1           1           1   \n",
              "\n",
              "   food-amount  snack-amount  food-kind  \n",
              "0          0.5           0.0          1  \n",
              "1          1.0           0.0          1  \n",
              "2          1.0           0.0          1  \n",
              "3          1.0           0.0          1  \n",
              "4          1.0           0.0          1  "
            ],
            "text/html": [
              "\n",
              "  <div id=\"df-ae7f33ed-aeb7-42b2-882b-cfd0ad4e40c8\" class=\"colab-df-container\">\n",
              "    <div>\n",
              "<style scoped>\n",
              "    .dataframe tbody tr th:only-of-type {\n",
              "        vertical-align: middle;\n",
              "    }\n",
              "\n",
              "    .dataframe tbody tr th {\n",
              "        vertical-align: top;\n",
              "    }\n",
              "\n",
              "    .dataframe thead th {\n",
              "        text-align: right;\n",
              "    }\n",
              "</style>\n",
              "<table border=\"1\" class=\"dataframe\">\n",
              "  <thead>\n",
              "    <tr style=\"text-align: right;\">\n",
              "      <th></th>\n",
              "      <th>group</th>\n",
              "      <th>breed</th>\n",
              "      <th>class</th>\n",
              "      <th>age</th>\n",
              "      <th>sex</th>\n",
              "      <th>weight</th>\n",
              "      <th>shoulder-height</th>\n",
              "      <th>neck-size</th>\n",
              "      <th>back-length</th>\n",
              "      <th>chest-size</th>\n",
              "      <th>BCS</th>\n",
              "      <th>exercise</th>\n",
              "      <th>environment</th>\n",
              "      <th>defecation</th>\n",
              "      <th>food-count</th>\n",
              "      <th>food-amount</th>\n",
              "      <th>snack-amount</th>\n",
              "      <th>food-kind</th>\n",
              "    </tr>\n",
              "  </thead>\n",
              "  <tbody>\n",
              "    <tr>\n",
              "      <th>0</th>\n",
              "      <td>SS</td>\n",
              "      <td>POO</td>\n",
              "      <td>SH</td>\n",
              "      <td>3.0</td>\n",
              "      <td>IF</td>\n",
              "      <td>1.0</td>\n",
              "      <td>23.0</td>\n",
              "      <td>17.0</td>\n",
              "      <td>29.0</td>\n",
              "      <td>29.0</td>\n",
              "      <td>5</td>\n",
              "      <td>3</td>\n",
              "      <td>1</td>\n",
              "      <td>1</td>\n",
              "      <td>1</td>\n",
              "      <td>0.5</td>\n",
              "      <td>0.0</td>\n",
              "      <td>1</td>\n",
              "    </tr>\n",
              "    <tr>\n",
              "      <th>1</th>\n",
              "      <td>SS</td>\n",
              "      <td>POO</td>\n",
              "      <td>SH</td>\n",
              "      <td>4.0</td>\n",
              "      <td>IF</td>\n",
              "      <td>3.0</td>\n",
              "      <td>28.0</td>\n",
              "      <td>19.0</td>\n",
              "      <td>35.0</td>\n",
              "      <td>33.0</td>\n",
              "      <td>5</td>\n",
              "      <td>3</td>\n",
              "      <td>1</td>\n",
              "      <td>1</td>\n",
              "      <td>2</td>\n",
              "      <td>1.0</td>\n",
              "      <td>0.0</td>\n",
              "      <td>1</td>\n",
              "    </tr>\n",
              "    <tr>\n",
              "      <th>2</th>\n",
              "      <td>SL</td>\n",
              "      <td>BIC</td>\n",
              "      <td>LH</td>\n",
              "      <td>2.0</td>\n",
              "      <td>IF</td>\n",
              "      <td>2.0</td>\n",
              "      <td>20.0</td>\n",
              "      <td>20.0</td>\n",
              "      <td>27.0</td>\n",
              "      <td>31.0</td>\n",
              "      <td>5</td>\n",
              "      <td>3</td>\n",
              "      <td>2</td>\n",
              "      <td>1</td>\n",
              "      <td>4</td>\n",
              "      <td>1.0</td>\n",
              "      <td>0.0</td>\n",
              "      <td>1</td>\n",
              "    </tr>\n",
              "    <tr>\n",
              "      <th>3</th>\n",
              "      <td>SL</td>\n",
              "      <td>POM</td>\n",
              "      <td>LH</td>\n",
              "      <td>2.0</td>\n",
              "      <td>IM</td>\n",
              "      <td>3.0</td>\n",
              "      <td>22.5</td>\n",
              "      <td>21.0</td>\n",
              "      <td>28.0</td>\n",
              "      <td>32.0</td>\n",
              "      <td>4</td>\n",
              "      <td>3</td>\n",
              "      <td>1</td>\n",
              "      <td>1</td>\n",
              "      <td>2</td>\n",
              "      <td>1.0</td>\n",
              "      <td>0.0</td>\n",
              "      <td>1</td>\n",
              "    </tr>\n",
              "    <tr>\n",
              "      <th>4</th>\n",
              "      <td>LL</td>\n",
              "      <td>SHE</td>\n",
              "      <td>LH</td>\n",
              "      <td>1.0</td>\n",
              "      <td>IM</td>\n",
              "      <td>12.0</td>\n",
              "      <td>45.0</td>\n",
              "      <td>32.0</td>\n",
              "      <td>44.0</td>\n",
              "      <td>53.0</td>\n",
              "      <td>5</td>\n",
              "      <td>3</td>\n",
              "      <td>1</td>\n",
              "      <td>1</td>\n",
              "      <td>1</td>\n",
              "      <td>1.0</td>\n",
              "      <td>0.0</td>\n",
              "      <td>1</td>\n",
              "    </tr>\n",
              "  </tbody>\n",
              "</table>\n",
              "</div>\n",
              "    <div class=\"colab-df-buttons\">\n",
              "\n",
              "  <div class=\"colab-df-container\">\n",
              "    <button class=\"colab-df-convert\" onclick=\"convertToInteractive('df-ae7f33ed-aeb7-42b2-882b-cfd0ad4e40c8')\"\n",
              "            title=\"Convert this dataframe to an interactive table.\"\n",
              "            style=\"display:none;\">\n",
              "\n",
              "  <svg xmlns=\"http://www.w3.org/2000/svg\" height=\"24px\" viewBox=\"0 -960 960 960\">\n",
              "    <path d=\"M120-120v-720h720v720H120Zm60-500h600v-160H180v160Zm220 220h160v-160H400v160Zm0 220h160v-160H400v160ZM180-400h160v-160H180v160Zm440 0h160v-160H620v160ZM180-180h160v-160H180v160Zm440 0h160v-160H620v160Z\"/>\n",
              "  </svg>\n",
              "    </button>\n",
              "\n",
              "  <style>\n",
              "    .colab-df-container {\n",
              "      display:flex;\n",
              "      gap: 12px;\n",
              "    }\n",
              "\n",
              "    .colab-df-convert {\n",
              "      background-color: #E8F0FE;\n",
              "      border: none;\n",
              "      border-radius: 50%;\n",
              "      cursor: pointer;\n",
              "      display: none;\n",
              "      fill: #1967D2;\n",
              "      height: 32px;\n",
              "      padding: 0 0 0 0;\n",
              "      width: 32px;\n",
              "    }\n",
              "\n",
              "    .colab-df-convert:hover {\n",
              "      background-color: #E2EBFA;\n",
              "      box-shadow: 0px 1px 2px rgba(60, 64, 67, 0.3), 0px 1px 3px 1px rgba(60, 64, 67, 0.15);\n",
              "      fill: #174EA6;\n",
              "    }\n",
              "\n",
              "    .colab-df-buttons div {\n",
              "      margin-bottom: 4px;\n",
              "    }\n",
              "\n",
              "    [theme=dark] .colab-df-convert {\n",
              "      background-color: #3B4455;\n",
              "      fill: #D2E3FC;\n",
              "    }\n",
              "\n",
              "    [theme=dark] .colab-df-convert:hover {\n",
              "      background-color: #434B5C;\n",
              "      box-shadow: 0px 1px 3px 1px rgba(0, 0, 0, 0.15);\n",
              "      filter: drop-shadow(0px 1px 2px rgba(0, 0, 0, 0.3));\n",
              "      fill: #FFFFFF;\n",
              "    }\n",
              "  </style>\n",
              "\n",
              "    <script>\n",
              "      const buttonEl =\n",
              "        document.querySelector('#df-ae7f33ed-aeb7-42b2-882b-cfd0ad4e40c8 button.colab-df-convert');\n",
              "      buttonEl.style.display =\n",
              "        google.colab.kernel.accessAllowed ? 'block' : 'none';\n",
              "\n",
              "      async function convertToInteractive(key) {\n",
              "        const element = document.querySelector('#df-ae7f33ed-aeb7-42b2-882b-cfd0ad4e40c8');\n",
              "        const dataTable =\n",
              "          await google.colab.kernel.invokeFunction('convertToInteractive',\n",
              "                                                    [key], {});\n",
              "        if (!dataTable) return;\n",
              "\n",
              "        const docLinkHtml = 'Like what you see? Visit the ' +\n",
              "          '<a target=\"_blank\" href=https://colab.research.google.com/notebooks/data_table.ipynb>data table notebook</a>'\n",
              "          + ' to learn more about interactive tables.';\n",
              "        element.innerHTML = '';\n",
              "        dataTable['output_type'] = 'display_data';\n",
              "        await google.colab.output.renderOutput(dataTable, element);\n",
              "        const docLink = document.createElement('div');\n",
              "        docLink.innerHTML = docLinkHtml;\n",
              "        element.appendChild(docLink);\n",
              "      }\n",
              "    </script>\n",
              "  </div>\n",
              "\n",
              "\n",
              "<div id=\"df-8c0c7d62-7ec4-4f0e-883b-c3c9800b55ce\">\n",
              "  <button class=\"colab-df-quickchart\" onclick=\"quickchart('df-8c0c7d62-7ec4-4f0e-883b-c3c9800b55ce')\"\n",
              "            title=\"Suggest charts.\"\n",
              "            style=\"display:none;\">\n",
              "\n",
              "<svg xmlns=\"http://www.w3.org/2000/svg\" height=\"24px\"viewBox=\"0 0 24 24\"\n",
              "     width=\"24px\">\n",
              "    <g>\n",
              "        <path d=\"M19 3H5c-1.1 0-2 .9-2 2v14c0 1.1.9 2 2 2h14c1.1 0 2-.9 2-2V5c0-1.1-.9-2-2-2zM9 17H7v-7h2v7zm4 0h-2V7h2v10zm4 0h-2v-4h2v4z\"/>\n",
              "    </g>\n",
              "</svg>\n",
              "  </button>\n",
              "\n",
              "<style>\n",
              "  .colab-df-quickchart {\n",
              "    background-color: #E8F0FE;\n",
              "    border: none;\n",
              "    border-radius: 50%;\n",
              "    cursor: pointer;\n",
              "    display: none;\n",
              "    fill: #1967D2;\n",
              "    height: 32px;\n",
              "    padding: 0 0 0 0;\n",
              "    width: 32px;\n",
              "  }\n",
              "\n",
              "  .colab-df-quickchart:hover {\n",
              "    background-color: #E2EBFA;\n",
              "    box-shadow: 0px 1px 2px rgba(60, 64, 67, 0.3), 0px 1px 3px 1px rgba(60, 64, 67, 0.15);\n",
              "    fill: #174EA6;\n",
              "  }\n",
              "\n",
              "  [theme=dark] .colab-df-quickchart {\n",
              "    background-color: #3B4455;\n",
              "    fill: #D2E3FC;\n",
              "  }\n",
              "\n",
              "  [theme=dark] .colab-df-quickchart:hover {\n",
              "    background-color: #434B5C;\n",
              "    box-shadow: 0px 1px 3px 1px rgba(0, 0, 0, 0.15);\n",
              "    filter: drop-shadow(0px 1px 2px rgba(0, 0, 0, 0.3));\n",
              "    fill: #FFFFFF;\n",
              "  }\n",
              "</style>\n",
              "\n",
              "  <script>\n",
              "    async function quickchart(key) {\n",
              "      const charts = await google.colab.kernel.invokeFunction(\n",
              "          'suggestCharts', [key], {});\n",
              "    }\n",
              "    (() => {\n",
              "      let quickchartButtonEl =\n",
              "        document.querySelector('#df-8c0c7d62-7ec4-4f0e-883b-c3c9800b55ce button');\n",
              "      quickchartButtonEl.style.display =\n",
              "        google.colab.kernel.accessAllowed ? 'block' : 'none';\n",
              "    })();\n",
              "  </script>\n",
              "</div>\n",
              "    </div>\n",
              "  </div>\n"
            ]
          },
          "metadata": {},
          "execution_count": 10
        }
      ]
    },
    {
      "cell_type": "code",
      "source": [
        "# 실습 코드 : 통계 데이터 요약 확인\n",
        "\n",
        "dog_data.describe()"
      ],
      "metadata": {
        "colab": {
          "base_uri": "https://localhost:8080/",
          "height": 300
        },
        "id": "HUc4joPNEMJF",
        "outputId": "f6f55232-4813-45e8-c08c-e75f7003fed2"
      },
      "execution_count": null,
      "outputs": [
        {
          "output_type": "execute_result",
          "data": {
            "text/plain": [
              "                age        weight  shoulder-height     neck-size  \\\n",
              "count  68388.000000  68388.000000     68388.000000  68388.000000   \n",
              "mean       3.937292      4.783579        27.196333     23.154913   \n",
              "std        3.024603      5.557425         8.375594      6.424381   \n",
              "min        0.000000      0.300000         3.000000      0.000000   \n",
              "25%        2.000000      2.100000        22.000000     20.000000   \n",
              "50%        3.000000      3.000000        25.000000     22.000000   \n",
              "75%        5.000000      5.000000        29.000000     25.000000   \n",
              "max       18.000000     53.000000        76.000000     73.000000   \n",
              "\n",
              "        back-length    chest-size           BCS      exercise   environment  \\\n",
              "count  68388.000000  68388.000000  68388.000000  68388.000000  68388.000000   \n",
              "mean      31.249899     36.616070      4.928730      2.575774      1.037039   \n",
              "std        9.332927     10.413137      0.714872      0.619674      0.188858   \n",
              "min        6.000000      9.000000      2.000000      1.000000      1.000000   \n",
              "25%       25.000000     30.000000      5.000000      2.000000      1.000000   \n",
              "50%       29.000000     34.000000      5.000000      3.000000      1.000000   \n",
              "75%       35.000000     40.000000      5.000000      3.000000      1.000000   \n",
              "max       86.000000    101.000000      9.000000      3.000000      2.000000   \n",
              "\n",
              "         defecation    food-count   food-amount  snack-amount     food-kind  \n",
              "count  68388.000000  68388.000000  68388.000000  68388.000000  68388.000000  \n",
              "mean       1.007165      2.599842      1.179942      2.975510      1.037945  \n",
              "std        0.084343      1.267602      0.811666      7.600335      0.191065  \n",
              "min        1.000000      1.000000      0.200000      0.000000      1.000000  \n",
              "25%        1.000000      1.000000      0.500000      0.000000      1.000000  \n",
              "50%        1.000000      2.000000      1.000000      0.000000      1.000000  \n",
              "75%        1.000000      4.000000      1.500000      0.000000      1.000000  \n",
              "max        2.000000      4.000000     15.000000    100.000000      2.000000  "
            ],
            "text/html": [
              "\n",
              "  <div id=\"df-11c260ef-8d28-4a36-a4e7-150fada1a473\" class=\"colab-df-container\">\n",
              "    <div>\n",
              "<style scoped>\n",
              "    .dataframe tbody tr th:only-of-type {\n",
              "        vertical-align: middle;\n",
              "    }\n",
              "\n",
              "    .dataframe tbody tr th {\n",
              "        vertical-align: top;\n",
              "    }\n",
              "\n",
              "    .dataframe thead th {\n",
              "        text-align: right;\n",
              "    }\n",
              "</style>\n",
              "<table border=\"1\" class=\"dataframe\">\n",
              "  <thead>\n",
              "    <tr style=\"text-align: right;\">\n",
              "      <th></th>\n",
              "      <th>age</th>\n",
              "      <th>weight</th>\n",
              "      <th>shoulder-height</th>\n",
              "      <th>neck-size</th>\n",
              "      <th>back-length</th>\n",
              "      <th>chest-size</th>\n",
              "      <th>BCS</th>\n",
              "      <th>exercise</th>\n",
              "      <th>environment</th>\n",
              "      <th>defecation</th>\n",
              "      <th>food-count</th>\n",
              "      <th>food-amount</th>\n",
              "      <th>snack-amount</th>\n",
              "      <th>food-kind</th>\n",
              "    </tr>\n",
              "  </thead>\n",
              "  <tbody>\n",
              "    <tr>\n",
              "      <th>count</th>\n",
              "      <td>68388.000000</td>\n",
              "      <td>68388.000000</td>\n",
              "      <td>68388.000000</td>\n",
              "      <td>68388.000000</td>\n",
              "      <td>68388.000000</td>\n",
              "      <td>68388.000000</td>\n",
              "      <td>68388.000000</td>\n",
              "      <td>68388.000000</td>\n",
              "      <td>68388.000000</td>\n",
              "      <td>68388.000000</td>\n",
              "      <td>68388.000000</td>\n",
              "      <td>68388.000000</td>\n",
              "      <td>68388.000000</td>\n",
              "      <td>68388.000000</td>\n",
              "    </tr>\n",
              "    <tr>\n",
              "      <th>mean</th>\n",
              "      <td>3.937292</td>\n",
              "      <td>4.783579</td>\n",
              "      <td>27.196333</td>\n",
              "      <td>23.154913</td>\n",
              "      <td>31.249899</td>\n",
              "      <td>36.616070</td>\n",
              "      <td>4.928730</td>\n",
              "      <td>2.575774</td>\n",
              "      <td>1.037039</td>\n",
              "      <td>1.007165</td>\n",
              "      <td>2.599842</td>\n",
              "      <td>1.179942</td>\n",
              "      <td>2.975510</td>\n",
              "      <td>1.037945</td>\n",
              "    </tr>\n",
              "    <tr>\n",
              "      <th>std</th>\n",
              "      <td>3.024603</td>\n",
              "      <td>5.557425</td>\n",
              "      <td>8.375594</td>\n",
              "      <td>6.424381</td>\n",
              "      <td>9.332927</td>\n",
              "      <td>10.413137</td>\n",
              "      <td>0.714872</td>\n",
              "      <td>0.619674</td>\n",
              "      <td>0.188858</td>\n",
              "      <td>0.084343</td>\n",
              "      <td>1.267602</td>\n",
              "      <td>0.811666</td>\n",
              "      <td>7.600335</td>\n",
              "      <td>0.191065</td>\n",
              "    </tr>\n",
              "    <tr>\n",
              "      <th>min</th>\n",
              "      <td>0.000000</td>\n",
              "      <td>0.300000</td>\n",
              "      <td>3.000000</td>\n",
              "      <td>0.000000</td>\n",
              "      <td>6.000000</td>\n",
              "      <td>9.000000</td>\n",
              "      <td>2.000000</td>\n",
              "      <td>1.000000</td>\n",
              "      <td>1.000000</td>\n",
              "      <td>1.000000</td>\n",
              "      <td>1.000000</td>\n",
              "      <td>0.200000</td>\n",
              "      <td>0.000000</td>\n",
              "      <td>1.000000</td>\n",
              "    </tr>\n",
              "    <tr>\n",
              "      <th>25%</th>\n",
              "      <td>2.000000</td>\n",
              "      <td>2.100000</td>\n",
              "      <td>22.000000</td>\n",
              "      <td>20.000000</td>\n",
              "      <td>25.000000</td>\n",
              "      <td>30.000000</td>\n",
              "      <td>5.000000</td>\n",
              "      <td>2.000000</td>\n",
              "      <td>1.000000</td>\n",
              "      <td>1.000000</td>\n",
              "      <td>1.000000</td>\n",
              "      <td>0.500000</td>\n",
              "      <td>0.000000</td>\n",
              "      <td>1.000000</td>\n",
              "    </tr>\n",
              "    <tr>\n",
              "      <th>50%</th>\n",
              "      <td>3.000000</td>\n",
              "      <td>3.000000</td>\n",
              "      <td>25.000000</td>\n",
              "      <td>22.000000</td>\n",
              "      <td>29.000000</td>\n",
              "      <td>34.000000</td>\n",
              "      <td>5.000000</td>\n",
              "      <td>3.000000</td>\n",
              "      <td>1.000000</td>\n",
              "      <td>1.000000</td>\n",
              "      <td>2.000000</td>\n",
              "      <td>1.000000</td>\n",
              "      <td>0.000000</td>\n",
              "      <td>1.000000</td>\n",
              "    </tr>\n",
              "    <tr>\n",
              "      <th>75%</th>\n",
              "      <td>5.000000</td>\n",
              "      <td>5.000000</td>\n",
              "      <td>29.000000</td>\n",
              "      <td>25.000000</td>\n",
              "      <td>35.000000</td>\n",
              "      <td>40.000000</td>\n",
              "      <td>5.000000</td>\n",
              "      <td>3.000000</td>\n",
              "      <td>1.000000</td>\n",
              "      <td>1.000000</td>\n",
              "      <td>4.000000</td>\n",
              "      <td>1.500000</td>\n",
              "      <td>0.000000</td>\n",
              "      <td>1.000000</td>\n",
              "    </tr>\n",
              "    <tr>\n",
              "      <th>max</th>\n",
              "      <td>18.000000</td>\n",
              "      <td>53.000000</td>\n",
              "      <td>76.000000</td>\n",
              "      <td>73.000000</td>\n",
              "      <td>86.000000</td>\n",
              "      <td>101.000000</td>\n",
              "      <td>9.000000</td>\n",
              "      <td>3.000000</td>\n",
              "      <td>2.000000</td>\n",
              "      <td>2.000000</td>\n",
              "      <td>4.000000</td>\n",
              "      <td>15.000000</td>\n",
              "      <td>100.000000</td>\n",
              "      <td>2.000000</td>\n",
              "    </tr>\n",
              "  </tbody>\n",
              "</table>\n",
              "</div>\n",
              "    <div class=\"colab-df-buttons\">\n",
              "\n",
              "  <div class=\"colab-df-container\">\n",
              "    <button class=\"colab-df-convert\" onclick=\"convertToInteractive('df-11c260ef-8d28-4a36-a4e7-150fada1a473')\"\n",
              "            title=\"Convert this dataframe to an interactive table.\"\n",
              "            style=\"display:none;\">\n",
              "\n",
              "  <svg xmlns=\"http://www.w3.org/2000/svg\" height=\"24px\" viewBox=\"0 -960 960 960\">\n",
              "    <path d=\"M120-120v-720h720v720H120Zm60-500h600v-160H180v160Zm220 220h160v-160H400v160Zm0 220h160v-160H400v160ZM180-400h160v-160H180v160Zm440 0h160v-160H620v160ZM180-180h160v-160H180v160Zm440 0h160v-160H620v160Z\"/>\n",
              "  </svg>\n",
              "    </button>\n",
              "\n",
              "  <style>\n",
              "    .colab-df-container {\n",
              "      display:flex;\n",
              "      gap: 12px;\n",
              "    }\n",
              "\n",
              "    .colab-df-convert {\n",
              "      background-color: #E8F0FE;\n",
              "      border: none;\n",
              "      border-radius: 50%;\n",
              "      cursor: pointer;\n",
              "      display: none;\n",
              "      fill: #1967D2;\n",
              "      height: 32px;\n",
              "      padding: 0 0 0 0;\n",
              "      width: 32px;\n",
              "    }\n",
              "\n",
              "    .colab-df-convert:hover {\n",
              "      background-color: #E2EBFA;\n",
              "      box-shadow: 0px 1px 2px rgba(60, 64, 67, 0.3), 0px 1px 3px 1px rgba(60, 64, 67, 0.15);\n",
              "      fill: #174EA6;\n",
              "    }\n",
              "\n",
              "    .colab-df-buttons div {\n",
              "      margin-bottom: 4px;\n",
              "    }\n",
              "\n",
              "    [theme=dark] .colab-df-convert {\n",
              "      background-color: #3B4455;\n",
              "      fill: #D2E3FC;\n",
              "    }\n",
              "\n",
              "    [theme=dark] .colab-df-convert:hover {\n",
              "      background-color: #434B5C;\n",
              "      box-shadow: 0px 1px 3px 1px rgba(0, 0, 0, 0.15);\n",
              "      filter: drop-shadow(0px 1px 2px rgba(0, 0, 0, 0.3));\n",
              "      fill: #FFFFFF;\n",
              "    }\n",
              "  </style>\n",
              "\n",
              "    <script>\n",
              "      const buttonEl =\n",
              "        document.querySelector('#df-11c260ef-8d28-4a36-a4e7-150fada1a473 button.colab-df-convert');\n",
              "      buttonEl.style.display =\n",
              "        google.colab.kernel.accessAllowed ? 'block' : 'none';\n",
              "\n",
              "      async function convertToInteractive(key) {\n",
              "        const element = document.querySelector('#df-11c260ef-8d28-4a36-a4e7-150fada1a473');\n",
              "        const dataTable =\n",
              "          await google.colab.kernel.invokeFunction('convertToInteractive',\n",
              "                                                    [key], {});\n",
              "        if (!dataTable) return;\n",
              "\n",
              "        const docLinkHtml = 'Like what you see? Visit the ' +\n",
              "          '<a target=\"_blank\" href=https://colab.research.google.com/notebooks/data_table.ipynb>data table notebook</a>'\n",
              "          + ' to learn more about interactive tables.';\n",
              "        element.innerHTML = '';\n",
              "        dataTable['output_type'] = 'display_data';\n",
              "        await google.colab.output.renderOutput(dataTable, element);\n",
              "        const docLink = document.createElement('div');\n",
              "        docLink.innerHTML = docLinkHtml;\n",
              "        element.appendChild(docLink);\n",
              "      }\n",
              "    </script>\n",
              "  </div>\n",
              "\n",
              "\n",
              "<div id=\"df-23351b69-94f5-4069-8691-9753909bcea0\">\n",
              "  <button class=\"colab-df-quickchart\" onclick=\"quickchart('df-23351b69-94f5-4069-8691-9753909bcea0')\"\n",
              "            title=\"Suggest charts.\"\n",
              "            style=\"display:none;\">\n",
              "\n",
              "<svg xmlns=\"http://www.w3.org/2000/svg\" height=\"24px\"viewBox=\"0 0 24 24\"\n",
              "     width=\"24px\">\n",
              "    <g>\n",
              "        <path d=\"M19 3H5c-1.1 0-2 .9-2 2v14c0 1.1.9 2 2 2h14c1.1 0 2-.9 2-2V5c0-1.1-.9-2-2-2zM9 17H7v-7h2v7zm4 0h-2V7h2v10zm4 0h-2v-4h2v4z\"/>\n",
              "    </g>\n",
              "</svg>\n",
              "  </button>\n",
              "\n",
              "<style>\n",
              "  .colab-df-quickchart {\n",
              "    background-color: #E8F0FE;\n",
              "    border: none;\n",
              "    border-radius: 50%;\n",
              "    cursor: pointer;\n",
              "    display: none;\n",
              "    fill: #1967D2;\n",
              "    height: 32px;\n",
              "    padding: 0 0 0 0;\n",
              "    width: 32px;\n",
              "  }\n",
              "\n",
              "  .colab-df-quickchart:hover {\n",
              "    background-color: #E2EBFA;\n",
              "    box-shadow: 0px 1px 2px rgba(60, 64, 67, 0.3), 0px 1px 3px 1px rgba(60, 64, 67, 0.15);\n",
              "    fill: #174EA6;\n",
              "  }\n",
              "\n",
              "  [theme=dark] .colab-df-quickchart {\n",
              "    background-color: #3B4455;\n",
              "    fill: #D2E3FC;\n",
              "  }\n",
              "\n",
              "  [theme=dark] .colab-df-quickchart:hover {\n",
              "    background-color: #434B5C;\n",
              "    box-shadow: 0px 1px 3px 1px rgba(0, 0, 0, 0.15);\n",
              "    filter: drop-shadow(0px 1px 2px rgba(0, 0, 0, 0.3));\n",
              "    fill: #FFFFFF;\n",
              "  }\n",
              "</style>\n",
              "\n",
              "  <script>\n",
              "    async function quickchart(key) {\n",
              "      const charts = await google.colab.kernel.invokeFunction(\n",
              "          'suggestCharts', [key], {});\n",
              "    }\n",
              "    (() => {\n",
              "      let quickchartButtonEl =\n",
              "        document.querySelector('#df-23351b69-94f5-4069-8691-9753909bcea0 button');\n",
              "      quickchartButtonEl.style.display =\n",
              "        google.colab.kernel.accessAllowed ? 'block' : 'none';\n",
              "    })();\n",
              "  </script>\n",
              "</div>\n",
              "    </div>\n",
              "  </div>\n"
            ]
          },
          "metadata": {},
          "execution_count": 11
        }
      ]
    },
    {
      "cell_type": "markdown",
      "source": [
        "**Column 설명**\n",
        "- breed : 품종\n",
        "- age : 나이\n",
        "- sex : 성별\n",
        "- class : 장단모\n",
        "- weight : 무게\n",
        "- shoulder-height : 견갑부 높이\n",
        "- neck-size : 목둘레\n",
        "- back-length : 등허리 길이\n",
        "- chest-size : 흉곽둘레\n",
        "- BCS : 신체충실 지수\n",
        "- excecise : 운동강도\n",
        "- environment : 생활환경\n",
        "- defecation : 배변사태\n",
        "- food-count : 식이횟수\n",
        "- foot-mount : 식사량\n",
        "- snack-amount : 간식량\n",
        "- food-kind : 식사종류"
      ],
      "metadata": {
        "id": "A644i6932b7U"
      }
    },
    {
      "cell_type": "markdown",
      "source": [
        "## **다. 데이터 도식화**"
      ],
      "metadata": {
        "id": "muVdiTGdGymJ"
      }
    },
    {
      "cell_type": "code",
      "source": [
        "# 실습 코드 : 품종별 평균 몸무게 바차트로 표현\n",
        "\n",
        "import matplotlib.pyplot as plt\n",
        "import seaborn as sns\n",
        "\n",
        "# breed 별로 weight의 평균을 계산\n",
        "avg_weight_by_breed = dog_data.groupby('breed')['weight'].mean().sort_values(ascending=False)\n",
        "\n",
        "# 바 차트로 시각화\n",
        "plt.figure(figsize=(10, 5))\n",
        "sns.barplot(x=avg_weight_by_breed.index, y=avg_weight_by_breed.values)\n",
        "\n",
        "plt.title('Average Weight by Breed')\n",
        "plt.xlabel('Breed')\n",
        "plt.ylabel('Average Weight')\n",
        "plt.xticks(rotation=90)\n",
        "plt.tight_layout()\n",
        "\n",
        "plt.show()"
      ],
      "metadata": {
        "colab": {
          "base_uri": "https://localhost:8080/",
          "height": 507
        },
        "id": "9VS3_D36F90W",
        "outputId": "68f37250-e4a4-4dc2-f337-5ef21c267ce1"
      },
      "execution_count": null,
      "outputs": [
        {
          "output_type": "display_data",
          "data": {
            "text/plain": [
              "<Figure size 1000x500 with 1 Axes>"
            ],
            "image/png": "[encoded data removed]"
          },
          "metadata": {}
        }
      ]
    },
    {
      "cell_type": "code",
      "source": [
        "# 실습 코드 : 품종별 등허리 길이 박스플롯 표현\n",
        "\n",
        "import matplotlib.pyplot as plt\n",
        "import seaborn as sns\n",
        "\n",
        "plt.figure(figsize=(10, 5))\n",
        "sns.boxplot(x='breed', y='back-length', data=dog_data)\n",
        "\n",
        "plt.title('Back Length Distribution by Breed')\n",
        "plt.xlabel('Breed')\n",
        "plt.ylabel('Back Length')\n",
        "plt.xticks(rotation=90)\n",
        "plt.tight_layout()\n",
        "\n",
        "plt.show()"
      ],
      "metadata": {
        "colab": {
          "base_uri": "https://localhost:8080/",
          "height": 507
        },
        "id": "C2mrul1zFlke",
        "outputId": "aa280bd3-1fc4-4c76-fa6a-0be163b6b97c"
      },
      "execution_count": null,
      "outputs": [
        {
          "output_type": "display_data",
          "data": {
            "text/plain": [
              "<Figure size 1000x500 with 1 Axes>"
            ],
            "image/png": "[encoded data removed]"
          },
          "metadata": {}
        }
      ]
    },
    {
      "cell_type": "markdown",
      "source": [
        "# **2. 데이터 전처리**"
      ],
      "metadata": {
        "id": "Wg8_iVbFfdKm"
      }
    },
    {
      "cell_type": "code",
      "source": [
        "# 실습 코드 : 데이터 확인\n",
        "\n",
        "dog_data.info()"
      ],
      "metadata": {
        "colab": {
          "base_uri": "https://localhost:8080/"
        },
        "id": "E5hOoOdHcRdF",
        "outputId": "f55b23a5-b291-4659-8061-00c7bdd40b3d"
      },
      "execution_count": null,
      "outputs": [
        {
          "output_type": "stream",
          "name": "stdout",
          "text": [
            "<class 'pandas.core.frame.DataFrame'>\n",
            "RangeIndex: 68388 entries, 0 to 68387\n",
            "Data columns (total 18 columns):\n",
            " #   Column           Non-Null Count  Dtype  \n",
            "---  ------           --------------  -----  \n",
            " 0   group            68388 non-null  object \n",
            " 1   breed            68388 non-null  object \n",
            " 2   class            68388 non-null  object \n",
            " 3   age              68388 non-null  float64\n",
            " 4   sex              68388 non-null  object \n",
            " 5   weight           68388 non-null  float64\n",
            " 6   shoulder-height  68388 non-null  float64\n",
            " 7   neck-size        68388 non-null  float64\n",
            " 8   back-length      68388 non-null  float64\n",
            " 9   chest-size       68388 non-null  float64\n",
            " 10  BCS              68388 non-null  int64  \n",
            " 11  exercise         68388 non-null  int64  \n",
            " 12  environment      68388 non-null  int64  \n",
            " 13  defecation       68388 non-null  int64  \n",
            " 14  food-count       68388 non-null  int64  \n",
            " 15  food-amount      68388 non-null  float64\n",
            " 16  snack-amount     68388 non-null  float64\n",
            " 17  food-kind        68388 non-null  int64  \n",
            "dtypes: float64(8), int64(6), object(4)\n",
            "memory usage: 9.4+ MB\n"
          ]
        }
      ]
    },
    {
      "cell_type": "markdown",
      "source": [
        "## **가. 결측값 확인 및 제거**"
      ],
      "metadata": {
        "id": "hqG-QMNNgCOG"
      }
    },
    {
      "cell_type": "code",
      "source": [
        "# 실습 코드 : 상관관계가 높은 Feature (class) 삭제 (group과 class)\n",
        "\n",
        "dog_data.drop(['class'], inplace = True, axis = 1)"
      ],
      "metadata": {
        "id": "x_zIRtdTfFBZ"
      },
      "execution_count": null,
      "outputs": []
    },
    {
      "cell_type": "code",
      "source": [
        "# 결손 데이터 확인\n",
        "\n",
        "dog_data.isnull().sum()"
      ],
      "metadata": {
        "colab": {
          "base_uri": "https://localhost:8080/"
        },
        "id": "AV10-SkliARc",
        "outputId": "8056156e-6ae3-4a1c-9347-c79c1b68efc5"
      },
      "execution_count": null,
      "outputs": [
        {
          "output_type": "execute_result",
          "data": {
            "text/plain": [
              "group              0\n",
              "breed              0\n",
              "age                0\n",
              "sex                0\n",
              "weight             0\n",
              "shoulder-height    0\n",
              "neck-size          0\n",
              "back-length        0\n",
              "chest-size         0\n",
              "BCS                0\n",
              "exercise           0\n",
              "environment        0\n",
              "defecation         0\n",
              "food-count         0\n",
              "food-amount        0\n",
              "snack-amount       0\n",
              "food-kind          0\n",
              "dtype: int64"
            ]
          },
          "metadata": {},
          "execution_count": 16
        }
      ]
    },
    {
      "cell_type": "code",
      "source": [
        "# 실습 코드 : 결손 데이터 처리 (필요시)\n",
        "\n",
        "dog_data.dropna(inplace = True)"
      ],
      "metadata": {
        "id": "5rsfeJx_ibbl"
      },
      "execution_count": null,
      "outputs": []
    },
    {
      "cell_type": "code",
      "source": [
        "# 실습 코드 : 데이터 확인\n",
        "\n",
        "dog_data.info()"
      ],
      "metadata": {
        "colab": {
          "base_uri": "https://localhost:8080/"
        },
        "id": "NHriNDciilBK",
        "outputId": "e0b7a298-4dce-4043-a157-f15a00860a73"
      },
      "execution_count": null,
      "outputs": [
        {
          "output_type": "stream",
          "name": "stdout",
          "text": [
            "<class 'pandas.core.frame.DataFrame'>\n",
            "RangeIndex: 68388 entries, 0 to 68387\n",
            "Data columns (total 17 columns):\n",
            " #   Column           Non-Null Count  Dtype  \n",
            "---  ------           --------------  -----  \n",
            " 0   group            68388 non-null  object \n",
            " 1   breed            68388 non-null  object \n",
            " 2   age              68388 non-null  float64\n",
            " 3   sex              68388 non-null  object \n",
            " 4   weight           68388 non-null  float64\n",
            " 5   shoulder-height  68388 non-null  float64\n",
            " 6   neck-size        68388 non-null  float64\n",
            " 7   back-length      68388 non-null  float64\n",
            " 8   chest-size       68388 non-null  float64\n",
            " 9   BCS              68388 non-null  int64  \n",
            " 10  exercise         68388 non-null  int64  \n",
            " 11  environment      68388 non-null  int64  \n",
            " 12  defecation       68388 non-null  int64  \n",
            " 13  food-count       68388 non-null  int64  \n",
            " 14  food-amount      68388 non-null  float64\n",
            " 15  snack-amount     68388 non-null  float64\n",
            " 16  food-kind        68388 non-null  int64  \n",
            "dtypes: float64(8), int64(6), object(3)\n",
            "memory usage: 8.9+ MB\n"
          ]
        }
      ]
    },
    {
      "cell_type": "markdown",
      "source": [
        "## **나. 데이터 Sampling (추출)**"
      ],
      "metadata": {
        "id": "2sDwyZE8HAb4"
      }
    },
    {
      "cell_type": "code",
      "source": [
        "# 실습 코드 : Sampling 데이터 추출 (n = 3000, random_state = 42)\n",
        "\n",
        "dog_data = dog_data.sample(n = 3000, random_state = 42)\n",
        "dog_data.info()"
      ],
      "metadata": {
        "id": "PJGECKrlW09H",
        "colab": {
          "base_uri": "https://localhost:8080/"
        },
        "outputId": "30ba2197-04ff-46a8-9ade-799de6303c5e"
      },
      "execution_count": null,
      "outputs": [
        {
          "output_type": "stream",
          "name": "stdout",
          "text": [
            "<class 'pandas.core.frame.DataFrame'>\n",
            "Int64Index: 3000 entries, 25887 to 21632\n",
            "Data columns (total 17 columns):\n",
            " #   Column           Non-Null Count  Dtype  \n",
            "---  ------           --------------  -----  \n",
            " 0   group            3000 non-null   object \n",
            " 1   breed            3000 non-null   object \n",
            " 2   age              3000 non-null   float64\n",
            " 3   sex              3000 non-null   object \n",
            " 4   weight           3000 non-null   float64\n",
            " 5   shoulder-height  3000 non-null   float64\n",
            " 6   neck-size        3000 non-null   float64\n",
            " 7   back-length      3000 non-null   float64\n",
            " 8   chest-size       3000 non-null   float64\n",
            " 9   BCS              3000 non-null   int64  \n",
            " 10  exercise         3000 non-null   int64  \n",
            " 11  environment      3000 non-null   int64  \n",
            " 12  defecation       3000 non-null   int64  \n",
            " 13  food-count       3000 non-null   int64  \n",
            " 14  food-amount      3000 non-null   float64\n",
            " 15  snack-amount     3000 non-null   float64\n",
            " 16  food-kind        3000 non-null   int64  \n",
            "dtypes: float64(8), int64(6), object(3)\n",
            "memory usage: 421.9+ KB\n"
          ]
        }
      ]
    },
    {
      "cell_type": "markdown",
      "source": [
        "## **나. 타겟(목표)값 라벨링**"
      ],
      "metadata": {
        "id": "FEOPNROAh_pq"
      }
    },
    {
      "cell_type": "code",
      "source": [
        "# 실습 코드 : 타겟(목표)값 빈도 확인\n",
        "\n",
        "dog_data['BCS'].value_counts()"
      ],
      "metadata": {
        "colab": {
          "base_uri": "https://localhost:8080/"
        },
        "id": "G1KaM0ntcfY8",
        "outputId": "e13a955f-005f-460d-de3b-91c27f838b4e"
      },
      "execution_count": null,
      "outputs": [
        {
          "output_type": "execute_result",
          "data": {
            "text/plain": [
              "5    2091\n",
              "4     441\n",
              "6     287\n",
              "3     106\n",
              "7      53\n",
              "8      11\n",
              "2       6\n",
              "9       5\n",
              "Name: BCS, dtype: int64"
            ]
          },
          "metadata": {},
          "execution_count": 20
        }
      ]
    },
    {
      "cell_type": "code",
      "source": [
        "# 실습 코드 : BCS 라벨링 (3 이하 : 저체중, 4~5 : 정상, 6 이상 : 과체중)\n",
        "\n",
        "dog_data = dog_data.copy()\n",
        "\n",
        "def categorize_bcs(bcs):\n",
        "    if bcs <= 3:\n",
        "        return '저체중'\n",
        "    elif 4 <= bcs <=5:\n",
        "        return '정상'\n",
        "    else:\n",
        "        return '과체중'\n",
        "\n",
        "dog_data.loc[:, 'BCS'] = dog_data['BCS'].apply(categorize_bcs)"
      ],
      "metadata": {
        "id": "ZIdIdyMfcmRc"
      },
      "execution_count": null,
      "outputs": []
    },
    {
      "cell_type": "code",
      "source": [
        "# 실습 코드 : 라벨링된 타겟(목표)값 빈도 확인\n",
        "\n",
        "dog_data['BCS'].value_counts()"
      ],
      "metadata": {
        "colab": {
          "base_uri": "https://localhost:8080/"
        },
        "id": "FKRb5RzSc0Hr",
        "outputId": "3799b9a2-5921-44aa-ea61-3494583a3c85"
      },
      "execution_count": null,
      "outputs": [
        {
          "output_type": "execute_result",
          "data": {
            "text/plain": [
              "정상     2532\n",
              "과체중     356\n",
              "저체중     112\n",
              "Name: BCS, dtype: int64"
            ]
          },
          "metadata": {},
          "execution_count": 22
        }
      ]
    },
    {
      "cell_type": "code",
      "source": [
        "# 실습 코드 : 데이터 확인 (마지막 10개)\n",
        "\n",
        "dog_data.tail(10)"
      ],
      "metadata": {
        "colab": {
          "base_uri": "https://localhost:8080/",
          "height": 363
        },
        "id": "J_yC8n0Jc3OU",
        "outputId": "2e8b7bf2-3f6d-4559-bbb8-83129c245435"
      },
      "execution_count": null,
      "outputs": [
        {
          "output_type": "execute_result",
          "data": {
            "text/plain": [
              "      group breed  age sex  weight  shoulder-height  neck-size  back-length  \\\n",
              "17588    SL   MAL  2.0  IF     2.4             20.0       17.0         26.0   \n",
              "17339    MS   POO  6.0  CM     8.0             25.0       25.0         35.0   \n",
              "56457    SS   POO  1.0  IF     1.8             22.0       19.0         24.0   \n",
              "17444    SL   BIC  3.0  IM     2.0             20.0       15.0         27.0   \n",
              "35286    SL   POM  5.0  IF     2.0             22.0       22.0         25.0   \n",
              "48721    SL   BIC  1.0  IF     3.0             22.0       19.0         27.0   \n",
              "43337    ML   BIC  6.0  IF     6.5             29.0       25.0         39.0   \n",
              "22835    SS   POO  3.0  IF     3.2             26.0       20.0         33.0   \n",
              "10424    LS   WEL  4.0  IM    11.0             30.0       31.0         50.0   \n",
              "21632    LS   LAB  5.0  IM    35.0             61.0       51.0         63.0   \n",
              "\n",
              "       chest-size  BCS  exercise  environment  defecation  food-count  \\\n",
              "17588        27.0   정상         3            1           1           1   \n",
              "17339        49.0  과체중         1            1           1           2   \n",
              "56457        28.0   정상         3            1           1           4   \n",
              "17444        29.0   정상         3            2           1           4   \n",
              "35286        32.0   정상         2            1           1           2   \n",
              "48721        30.0   정상         3            1           1           1   \n",
              "43337        49.0  과체중         3            2           1           4   \n",
              "22835        36.0   정상         3            1           1           1   \n",
              "10424        49.0   정상         3            1           2           2   \n",
              "21632        80.0  과체중         2            2           1           2   \n",
              "\n",
              "       food-amount  snack-amount  food-kind  \n",
              "17588          1.0           0.0          1  \n",
              "17339          1.0           0.0          1  \n",
              "56457          2.0           0.0          1  \n",
              "17444          1.0           0.0          1  \n",
              "35286          0.5           0.0          1  \n",
              "48721          1.0           0.0          1  \n",
              "43337          1.0           0.0          1  \n",
              "22835          1.0           0.0          1  \n",
              "10424          1.0           1.0          1  \n",
              "21632          2.5           1.0          1  "
            ],
            "text/html": [
              "\n",
              "  <div id=\"df-4bcae25c-1f3d-4647-ab5d-e2f3a1dfa5cb\" class=\"colab-df-container\">\n",
              "    <div>\n",
              "<style scoped>\n",
              "    .dataframe tbody tr th:only-of-type {\n",
              "        vertical-align: middle;\n",
              "    }\n",
              "\n",
              "    .dataframe tbody tr th {\n",
              "        vertical-align: top;\n",
              "    }\n",
              "\n",
              "    .dataframe thead th {\n",
              "        text-align: right;\n",
              "    }\n",
              "</style>\n",
              "<table border=\"1\" class=\"dataframe\">\n",
              "  <thead>\n",
              "    <tr style=\"text-align: right;\">\n",
              "      <th></th>\n",
              "      <th>group</th>\n",
              "      <th>breed</th>\n",
              "      <th>age</th>\n",
              "      <th>sex</th>\n",
              "      <th>weight</th>\n",
              "      <th>shoulder-height</th>\n",
              "      <th>neck-size</th>\n",
              "      <th>back-length</th>\n",
              "      <th>chest-size</th>\n",
              "      <th>BCS</th>\n",
              "      <th>exercise</th>\n",
              "      <th>environment</th>\n",
              "      <th>defecation</th>\n",
              "      <th>food-count</th>\n",
              "      <th>food-amount</th>\n",
              "      <th>snack-amount</th>\n",
              "      <th>food-kind</th>\n",
              "    </tr>\n",
              "  </thead>\n",
              "  <tbody>\n",
              "    <tr>\n",
              "      <th>17588</th>\n",
              "      <td>SL</td>\n",
              "      <td>MAL</td>\n",
              "      <td>2.0</td>\n",
              "      <td>IF</td>\n",
              "      <td>2.4</td>\n",
              "      <td>20.0</td>\n",
              "      <td>17.0</td>\n",
              "      <td>26.0</td>\n",
              "      <td>27.0</td>\n",
              "      <td>정상</td>\n",
              "      <td>3</td>\n",
              "      <td>1</td>\n",
              "      <td>1</td>\n",
              "      <td>1</td>\n",
              "      <td>1.0</td>\n",
              "      <td>0.0</td>\n",
              "      <td>1</td>\n",
              "    </tr>\n",
              "    <tr>\n",
              "      <th>17339</th>\n",
              "      <td>MS</td>\n",
              "      <td>POO</td>\n",
              "      <td>6.0</td>\n",
              "      <td>CM</td>\n",
              "      <td>8.0</td>\n",
              "      <td>25.0</td>\n",
              "      <td>25.0</td>\n",
              "      <td>35.0</td>\n",
              "      <td>49.0</td>\n",
              "      <td>과체중</td>\n",
              "      <td>1</td>\n",
              "      <td>1</td>\n",
              "      <td>1</td>\n",
              "      <td>2</td>\n",
              "      <td>1.0</td>\n",
              "      <td>0.0</td>\n",
              "      <td>1</td>\n",
              "    </tr>\n",
              "    <tr>\n",
              "      <th>56457</th>\n",
              "      <td>SS</td>\n",
              "      <td>POO</td>\n",
              "      <td>1.0</td>\n",
              "      <td>IF</td>\n",
              "      <td>1.8</td>\n",
              "      <td>22.0</td>\n",
              "      <td>19.0</td>\n",
              "      <td>24.0</td>\n",
              "      <td>28.0</td>\n",
              "      <td>정상</td>\n",
              "      <td>3</td>\n",
              "      <td>1</td>\n",
              "      <td>1</td>\n",
              "      <td>4</td>\n",
              "      <td>2.0</td>\n",
              "      <td>0.0</td>\n",
              "      <td>1</td>\n",
              "    </tr>\n",
              "    <tr>\n",
              "      <th>17444</th>\n",
              "      <td>SL</td>\n",
              "      <td>BIC</td>\n",
              "      <td>3.0</td>\n",
              "      <td>IM</td>\n",
              "      <td>2.0</td>\n",
              "      <td>20.0</td>\n",
              "      <td>15.0</td>\n",
              "      <td>27.0</td>\n",
              "      <td>29.0</td>\n",
              "      <td>정상</td>\n",
              "      <td>3</td>\n",
              "      <td>2</td>\n",
              "      <td>1</td>\n",
              "      <td>4</td>\n",
              "      <td>1.0</td>\n",
              "      <td>0.0</td>\n",
              "      <td>1</td>\n",
              "    </tr>\n",
              "    <tr>\n",
              "      <th>35286</th>\n",
              "      <td>SL</td>\n",
              "      <td>POM</td>\n",
              "      <td>5.0</td>\n",
              "      <td>IF</td>\n",
              "      <td>2.0</td>\n",
              "      <td>22.0</td>\n",
              "      <td>22.0</td>\n",
              "      <td>25.0</td>\n",
              "      <td>32.0</td>\n",
              "      <td>정상</td>\n",
              "      <td>2</td>\n",
              "      <td>1</td>\n",
              "      <td>1</td>\n",
              "      <td>2</td>\n",
              "      <td>0.5</td>\n",
              "      <td>0.0</td>\n",
              "      <td>1</td>\n",
              "    </tr>\n",
              "    <tr>\n",
              "      <th>48721</th>\n",
              "      <td>SL</td>\n",
              "      <td>BIC</td>\n",
              "      <td>1.0</td>\n",
              "      <td>IF</td>\n",
              "      <td>3.0</td>\n",
              "      <td>22.0</td>\n",
              "      <td>19.0</td>\n",
              "      <td>27.0</td>\n",
              "      <td>30.0</td>\n",
              "      <td>정상</td>\n",
              "      <td>3</td>\n",
              "      <td>1</td>\n",
              "      <td>1</td>\n",
              "      <td>1</td>\n",
              "      <td>1.0</td>\n",
              "      <td>0.0</td>\n",
              "      <td>1</td>\n",
              "    </tr>\n",
              "    <tr>\n",
              "      <th>43337</th>\n",
              "      <td>ML</td>\n",
              "      <td>BIC</td>\n",
              "      <td>6.0</td>\n",
              "      <td>IF</td>\n",
              "      <td>6.5</td>\n",
              "      <td>29.0</td>\n",
              "      <td>25.0</td>\n",
              "      <td>39.0</td>\n",
              "      <td>49.0</td>\n",
              "      <td>과체중</td>\n",
              "      <td>3</td>\n",
              "      <td>2</td>\n",
              "      <td>1</td>\n",
              "      <td>4</td>\n",
              "      <td>1.0</td>\n",
              "      <td>0.0</td>\n",
              "      <td>1</td>\n",
              "    </tr>\n",
              "    <tr>\n",
              "      <th>22835</th>\n",
              "      <td>SS</td>\n",
              "      <td>POO</td>\n",
              "      <td>3.0</td>\n",
              "      <td>IF</td>\n",
              "      <td>3.2</td>\n",
              "      <td>26.0</td>\n",
              "      <td>20.0</td>\n",
              "      <td>33.0</td>\n",
              "      <td>36.0</td>\n",
              "      <td>정상</td>\n",
              "      <td>3</td>\n",
              "      <td>1</td>\n",
              "      <td>1</td>\n",
              "      <td>1</td>\n",
              "      <td>1.0</td>\n",
              "      <td>0.0</td>\n",
              "      <td>1</td>\n",
              "    </tr>\n",
              "    <tr>\n",
              "      <th>10424</th>\n",
              "      <td>LS</td>\n",
              "      <td>WEL</td>\n",
              "      <td>4.0</td>\n",
              "      <td>IM</td>\n",
              "      <td>11.0</td>\n",
              "      <td>30.0</td>\n",
              "      <td>31.0</td>\n",
              "      <td>50.0</td>\n",
              "      <td>49.0</td>\n",
              "      <td>정상</td>\n",
              "      <td>3</td>\n",
              "      <td>1</td>\n",
              "      <td>2</td>\n",
              "      <td>2</td>\n",
              "      <td>1.0</td>\n",
              "      <td>1.0</td>\n",
              "      <td>1</td>\n",
              "    </tr>\n",
              "    <tr>\n",
              "      <th>21632</th>\n",
              "      <td>LS</td>\n",
              "      <td>LAB</td>\n",
              "      <td>5.0</td>\n",
              "      <td>IM</td>\n",
              "      <td>35.0</td>\n",
              "      <td>61.0</td>\n",
              "      <td>51.0</td>\n",
              "      <td>63.0</td>\n",
              "      <td>80.0</td>\n",
              "      <td>과체중</td>\n",
              "      <td>2</td>\n",
              "      <td>2</td>\n",
              "      <td>1</td>\n",
              "      <td>2</td>\n",
              "      <td>2.5</td>\n",
              "      <td>1.0</td>\n",
              "      <td>1</td>\n",
              "    </tr>\n",
              "  </tbody>\n",
              "</table>\n",
              "</div>\n",
              "    <div class=\"colab-df-buttons\">\n",
              "\n",
              "  <div class=\"colab-df-container\">\n",
              "    <button class=\"colab-df-convert\" onclick=\"convertToInteractive('df-4bcae25c-1f3d-4647-ab5d-e2f3a1dfa5cb')\"\n",
              "            title=\"Convert this dataframe to an interactive table.\"\n",
              "            style=\"display:none;\">\n",
              "\n",
              "  <svg xmlns=\"http://www.w3.org/2000/svg\" height=\"24px\" viewBox=\"0 -960 960 960\">\n",
              "    <path d=\"M120-120v-720h720v720H120Zm60-500h600v-160H180v160Zm220 220h160v-160H400v160Zm0 220h160v-160H400v160ZM180-400h160v-160H180v160Zm440 0h160v-160H620v160ZM180-180h160v-160H180v160Zm440 0h160v-160H620v160Z\"/>\n",
              "  </svg>\n",
              "    </button>\n",
              "\n",
              "  <style>\n",
              "    .colab-df-container {\n",
              "      display:flex;\n",
              "      gap: 12px;\n",
              "    }\n",
              "\n",
              "    .colab-df-convert {\n",
              "      background-color: #E8F0FE;\n",
              "      border: none;\n",
              "      border-radius: 50%;\n",
              "      cursor: pointer;\n",
              "      display: none;\n",
              "      fill: #1967D2;\n",
              "      height: 32px;\n",
              "      padding: 0 0 0 0;\n",
              "      width: 32px;\n",
              "    }\n",
              "\n",
              "    .colab-df-convert:hover {\n",
              "      background-color: #E2EBFA;\n",
              "      box-shadow: 0px 1px 2px rgba(60, 64, 67, 0.3), 0px 1px 3px 1px rgba(60, 64, 67, 0.15);\n",
              "      fill: #174EA6;\n",
              "    }\n",
              "\n",
              "    .colab-df-buttons div {\n",
              "      margin-bottom: 4px;\n",
              "    }\n",
              "\n",
              "    [theme=dark] .colab-df-convert {\n",
              "      background-color: #3B4455;\n",
              "      fill: #D2E3FC;\n",
              "    }\n",
              "\n",
              "    [theme=dark] .colab-df-convert:hover {\n",
              "      background-color: #434B5C;\n",
              "      box-shadow: 0px 1px 3px 1px rgba(0, 0, 0, 0.15);\n",
              "      filter: drop-shadow(0px 1px 2px rgba(0, 0, 0, 0.3));\n",
              "      fill: #FFFFFF;\n",
              "    }\n",
              "  </style>\n",
              "\n",
              "    <script>\n",
              "      const buttonEl =\n",
              "        document.querySelector('#df-4bcae25c-1f3d-4647-ab5d-e2f3a1dfa5cb button.colab-df-convert');\n",
              "      buttonEl.style.display =\n",
              "        google.colab.kernel.accessAllowed ? 'block' : 'none';\n",
              "\n",
              "      async function convertToInteractive(key) {\n",
              "        const element = document.querySelector('#df-4bcae25c-1f3d-4647-ab5d-e2f3a1dfa5cb');\n",
              "        const dataTable =\n",
              "          await google.colab.kernel.invokeFunction('convertToInteractive',\n",
              "                                                    [key], {});\n",
              "        if (!dataTable) return;\n",
              "\n",
              "        const docLinkHtml = 'Like what you see? Visit the ' +\n",
              "          '<a target=\"_blank\" href=https://colab.research.google.com/notebooks/data_table.ipynb>data table notebook</a>'\n",
              "          + ' to learn more about interactive tables.';\n",
              "        element.innerHTML = '';\n",
              "        dataTable['output_type'] = 'display_data';\n",
              "        await google.colab.output.renderOutput(dataTable, element);\n",
              "        const docLink = document.createElement('div');\n",
              "        docLink.innerHTML = docLinkHtml;\n",
              "        element.appendChild(docLink);\n",
              "      }\n",
              "    </script>\n",
              "  </div>\n",
              "\n",
              "\n",
              "<div id=\"df-df9f3bcb-c49c-4e64-aa86-5f84a4532557\">\n",
              "  <button class=\"colab-df-quickchart\" onclick=\"quickchart('df-df9f3bcb-c49c-4e64-aa86-5f84a4532557')\"\n",
              "            title=\"Suggest charts.\"\n",
              "            style=\"display:none;\">\n",
              "\n",
              "<svg xmlns=\"http://www.w3.org/2000/svg\" height=\"24px\"viewBox=\"0 0 24 24\"\n",
              "     width=\"24px\">\n",
              "    <g>\n",
              "        <path d=\"M19 3H5c-1.1 0-2 .9-2 2v14c0 1.1.9 2 2 2h14c1.1 0 2-.9 2-2V5c0-1.1-.9-2-2-2zM9 17H7v-7h2v7zm4 0h-2V7h2v10zm4 0h-2v-4h2v4z\"/>\n",
              "    </g>\n",
              "</svg>\n",
              "  </button>\n",
              "\n",
              "<style>\n",
              "  .colab-df-quickchart {\n",
              "    background-color: #E8F0FE;\n",
              "    border: none;\n",
              "    border-radius: 50%;\n",
              "    cursor: pointer;\n",
              "    display: none;\n",
              "    fill: #1967D2;\n",
              "    height: 32px;\n",
              "    padding: 0 0 0 0;\n",
              "    width: 32px;\n",
              "  }\n",
              "\n",
              "  .colab-df-quickchart:hover {\n",
              "    background-color: #E2EBFA;\n",
              "    box-shadow: 0px 1px 2px rgba(60, 64, 67, 0.3), 0px 1px 3px 1px rgba(60, 64, 67, 0.15);\n",
              "    fill: #174EA6;\n",
              "  }\n",
              "\n",
              "  [theme=dark] .colab-df-quickchart {\n",
              "    background-color: #3B4455;\n",
              "    fill: #D2E3FC;\n",
              "  }\n",
              "\n",
              "  [theme=dark] .colab-df-quickchart:hover {\n",
              "    background-color: #434B5C;\n",
              "    box-shadow: 0px 1px 3px 1px rgba(0, 0, 0, 0.15);\n",
              "    filter: drop-shadow(0px 1px 2px rgba(0, 0, 0, 0.3));\n",
              "    fill: #FFFFFF;\n",
              "  }\n",
              "</style>\n",
              "\n",
              "  <script>\n",
              "    async function quickchart(key) {\n",
              "      const charts = await google.colab.kernel.invokeFunction(\n",
              "          'suggestCharts', [key], {});\n",
              "    }\n",
              "    (() => {\n",
              "      let quickchartButtonEl =\n",
              "        document.querySelector('#df-df9f3bcb-c49c-4e64-aa86-5f84a4532557 button');\n",
              "      quickchartButtonEl.style.display =\n",
              "        google.colab.kernel.accessAllowed ? 'block' : 'none';\n",
              "    })();\n",
              "  </script>\n",
              "</div>\n",
              "    </div>\n",
              "  </div>\n"
            ]
          },
          "metadata": {},
          "execution_count": 23
        }
      ]
    },
    {
      "cell_type": "code",
      "source": [
        "# 실습 코드 : Sampling 후 데이터 확인\n",
        "\n",
        "dog_data.info()"
      ],
      "metadata": {
        "colab": {
          "base_uri": "https://localhost:8080/"
        },
        "id": "mVddDXV9c5N9",
        "outputId": "9d1be33e-39d1-4b07-a954-3480f722a3e1"
      },
      "execution_count": null,
      "outputs": [
        {
          "output_type": "stream",
          "name": "stdout",
          "text": [
            "<class 'pandas.core.frame.DataFrame'>\n",
            "Int64Index: 3000 entries, 25887 to 21632\n",
            "Data columns (total 17 columns):\n",
            " #   Column           Non-Null Count  Dtype  \n",
            "---  ------           --------------  -----  \n",
            " 0   group            3000 non-null   object \n",
            " 1   breed            3000 non-null   object \n",
            " 2   age              3000 non-null   float64\n",
            " 3   sex              3000 non-null   object \n",
            " 4   weight           3000 non-null   float64\n",
            " 5   shoulder-height  3000 non-null   float64\n",
            " 6   neck-size        3000 non-null   float64\n",
            " 7   back-length      3000 non-null   float64\n",
            " 8   chest-size       3000 non-null   float64\n",
            " 9   BCS              3000 non-null   object \n",
            " 10  exercise         3000 non-null   int64  \n",
            " 11  environment      3000 non-null   int64  \n",
            " 12  defecation       3000 non-null   int64  \n",
            " 13  food-count       3000 non-null   int64  \n",
            " 14  food-amount      3000 non-null   float64\n",
            " 15  snack-amount     3000 non-null   float64\n",
            " 16  food-kind        3000 non-null   int64  \n",
            "dtypes: float64(8), int64(5), object(4)\n",
            "memory usage: 421.9+ KB\n"
          ]
        }
      ]
    },
    {
      "cell_type": "markdown",
      "source": [
        "## **다. 특성값과 목표값 분리**"
      ],
      "metadata": {
        "id": "lMsuOvn4a2Mp"
      }
    },
    {
      "cell_type": "code",
      "source": [
        "# 실습 코드 : Feature(X), Targegt(y) 분리\n",
        "\n",
        "X = dog_data.drop('BCS', axis = 1)\n",
        "y = dog_data['BCS']"
      ],
      "metadata": {
        "id": "WEqHjbq7bRF5"
      },
      "execution_count": null,
      "outputs": []
    },
    {
      "cell_type": "code",
      "source": [
        "# 실습 코드 : One-Hot 인코딩\n",
        "\n",
        "X = pd.get_dummies(X, columns = ['group', 'breed', 'sex'])"
      ],
      "metadata": {
        "id": "KG3iBLPVpxGo"
      },
      "execution_count": null,
      "outputs": []
    },
    {
      "cell_type": "code",
      "source": [
        "X.head()"
      ],
      "metadata": {
        "colab": {
          "base_uri": "https://localhost:8080/",
          "height": 236
        },
        "id": "S0pvejJVp_Jj",
        "outputId": "a7c4723e-2998-4df2-946f-50319dd4667c"
      },
      "execution_count": null,
      "outputs": [
        {
          "output_type": "execute_result",
          "data": {
            "text/plain": [
              "       age  weight  shoulder-height  neck-size  back-length  chest-size  \\\n",
              "25887  2.0     3.2             24.0       22.0         23.0        31.0   \n",
              "54274  0.9     3.0             26.0       24.0         26.0        34.0   \n",
              "23873  9.0     4.0             25.0       22.0         35.0        32.0   \n",
              "7149   3.0     6.0             27.0       22.0         29.0        34.8   \n",
              "62110  3.0     2.0             26.0       22.0         29.0        33.0   \n",
              "\n",
              "       exercise  environment  defecation  food-count  ...  breed_POM  \\\n",
              "25887         3            1           1           1  ...          1   \n",
              "54274         3            1           1           4  ...          0   \n",
              "23873         2            1           1           4  ...          0   \n",
              "7149          3            1           1           4  ...          0   \n",
              "62110         3            1           1           4  ...          0   \n",
              "\n",
              "       breed_POO  breed_SCH  breed_SHE  breed_TER  breed_WEL  sex_CM  sex_IF  \\\n",
              "25887          0          0          0          0          0       0       0   \n",
              "54274          0          0          0          0          0       0       1   \n",
              "23873          0          0          0          0          0       0       0   \n",
              "7149           1          0          0          0          0       0       1   \n",
              "62110          1          0          0          0          0       0       1   \n",
              "\n",
              "       sex_IM  sex_SF  \n",
              "25887       1       0  \n",
              "54274       0       0  \n",
              "23873       1       0  \n",
              "7149        0       0  \n",
              "62110       0       0  \n",
              "\n",
              "[5 rows x 51 columns]"
            ],
            "text/html": [
              "\n",
              "  <div id=\"df-208ebbd0-21ad-4fd7-a3ac-ff8e1bf9f65c\" class=\"colab-df-container\">\n",
              "    <div>\n",
              "<style scoped>\n",
              "    .dataframe tbody tr th:only-of-type {\n",
              "        vertical-align: middle;\n",
              "    }\n",
              "\n",
              "    .dataframe tbody tr th {\n",
              "        vertical-align: top;\n",
              "    }\n",
              "\n",
              "    .dataframe thead th {\n",
              "        text-align: right;\n",
              "    }\n",
              "</style>\n",
              "<table border=\"1\" class=\"dataframe\">\n",
              "  <thead>\n",
              "    <tr style=\"text-align: right;\">\n",
              "      <th></th>\n",
              "      <th>age</th>\n",
              "      <th>weight</th>\n",
              "      <th>shoulder-height</th>\n",
              "      <th>neck-size</th>\n",
              "      <th>back-length</th>\n",
              "      <th>chest-size</th>\n",
              "      <th>exercise</th>\n",
              "      <th>environment</th>\n",
              "      <th>defecation</th>\n",
              "      <th>food-count</th>\n",
              "      <th>...</th>\n",
              "      <th>breed_POM</th>\n",
              "      <th>breed_POO</th>\n",
              "      <th>breed_SCH</th>\n",
              "      <th>breed_SHE</th>\n",
              "      <th>breed_TER</th>\n",
              "      <th>breed_WEL</th>\n",
              "      <th>sex_CM</th>\n",
              "      <th>sex_IF</th>\n",
              "      <th>sex_IM</th>\n",
              "      <th>sex_SF</th>\n",
              "    </tr>\n",
              "  </thead>\n",
              "  <tbody>\n",
              "    <tr>\n",
              "      <th>25887</th>\n",
              "      <td>2.0</td>\n",
              "      <td>3.2</td>\n",
              "      <td>24.0</td>\n",
              "      <td>22.0</td>\n",
              "      <td>23.0</td>\n",
              "      <td>31.0</td>\n",
              "      <td>3</td>\n",
              "      <td>1</td>\n",
              "      <td>1</td>\n",
              "      <td>1</td>\n",
              "      <td>...</td>\n",
              "      <td>1</td>\n",
              "      <td>0</td>\n",
              "      <td>0</td>\n",
              "      <td>0</td>\n",
              "      <td>0</td>\n",
              "      <td>0</td>\n",
              "      <td>0</td>\n",
              "      <td>0</td>\n",
              "      <td>1</td>\n",
              "      <td>0</td>\n",
              "    </tr>\n",
              "    <tr>\n",
              "      <th>54274</th>\n",
              "      <td>0.9</td>\n",
              "      <td>3.0</td>\n",
              "      <td>26.0</td>\n",
              "      <td>24.0</td>\n",
              "      <td>26.0</td>\n",
              "      <td>34.0</td>\n",
              "      <td>3</td>\n",
              "      <td>1</td>\n",
              "      <td>1</td>\n",
              "      <td>4</td>\n",
              "      <td>...</td>\n",
              "      <td>0</td>\n",
              "      <td>0</td>\n",
              "      <td>0</td>\n",
              "      <td>0</td>\n",
              "      <td>0</td>\n",
              "      <td>0</td>\n",
              "      <td>0</td>\n",
              "      <td>1</td>\n",
              "      <td>0</td>\n",
              "      <td>0</td>\n",
              "    </tr>\n",
              "    <tr>\n",
              "      <th>23873</th>\n",
              "      <td>9.0</td>\n",
              "      <td>4.0</td>\n",
              "      <td>25.0</td>\n",
              "      <td>22.0</td>\n",
              "      <td>35.0</td>\n",
              "      <td>32.0</td>\n",
              "      <td>2</td>\n",
              "      <td>1</td>\n",
              "      <td>1</td>\n",
              "      <td>4</td>\n",
              "      <td>...</td>\n",
              "      <td>0</td>\n",
              "      <td>0</td>\n",
              "      <td>0</td>\n",
              "      <td>0</td>\n",
              "      <td>0</td>\n",
              "      <td>0</td>\n",
              "      <td>0</td>\n",
              "      <td>0</td>\n",
              "      <td>1</td>\n",
              "      <td>0</td>\n",
              "    </tr>\n",
              "    <tr>\n",
              "      <th>7149</th>\n",
              "      <td>3.0</td>\n",
              "      <td>6.0</td>\n",
              "      <td>27.0</td>\n",
              "      <td>22.0</td>\n",
              "      <td>29.0</td>\n",
              "      <td>34.8</td>\n",
              "      <td>3</td>\n",
              "      <td>1</td>\n",
              "      <td>1</td>\n",
              "      <td>4</td>\n",
              "      <td>...</td>\n",
              "      <td>0</td>\n",
              "      <td>1</td>\n",
              "      <td>0</td>\n",
              "      <td>0</td>\n",
              "      <td>0</td>\n",
              "      <td>0</td>\n",
              "      <td>0</td>\n",
              "      <td>1</td>\n",
              "      <td>0</td>\n",
              "      <td>0</td>\n",
              "    </tr>\n",
              "    <tr>\n",
              "      <th>62110</th>\n",
              "      <td>3.0</td>\n",
              "      <td>2.0</td>\n",
              "      <td>26.0</td>\n",
              "      <td>22.0</td>\n",
              "      <td>29.0</td>\n",
              "      <td>33.0</td>\n",
              "      <td>3</td>\n",
              "      <td>1</td>\n",
              "      <td>1</td>\n",
              "      <td>4</td>\n",
              "      <td>...</td>\n",
              "      <td>0</td>\n",
              "      <td>1</td>\n",
              "      <td>0</td>\n",
              "      <td>0</td>\n",
              "      <td>0</td>\n",
              "      <td>0</td>\n",
              "      <td>0</td>\n",
              "      <td>1</td>\n",
              "      <td>0</td>\n",
              "      <td>0</td>\n",
              "    </tr>\n",
              "  </tbody>\n",
              "</table>\n",
              "<p>5 rows × 51 columns</p>\n",
              "</div>\n",
              "    <div class=\"colab-df-buttons\">\n",
              "\n",
              "  <div class=\"colab-df-container\">\n",
              "    <button class=\"colab-df-convert\" onclick=\"convertToInteractive('df-208ebbd0-21ad-4fd7-a3ac-ff8e1bf9f65c')\"\n",
              "            title=\"Convert this dataframe to an interactive table.\"\n",
              "            style=\"display:none;\">\n",
              "\n",
              "  <svg xmlns=\"http://www.w3.org/2000/svg\" height=\"24px\" viewBox=\"0 -960 960 960\">\n",
              "    <path d=\"M120-120v-720h720v720H120Zm60-500h600v-160H180v160Zm220 220h160v-160H400v160Zm0 220h160v-160H400v160ZM180-400h160v-160H180v160Zm440 0h160v-160H620v160ZM180-180h160v-160H180v160Zm440 0h160v-160H620v160Z\"/>\n",
              "  </svg>\n",
              "    </button>\n",
              "\n",
              "  <style>\n",
              "    .colab-df-container {\n",
              "      display:flex;\n",
              "      gap: 12px;\n",
              "    }\n",
              "\n",
              "    .colab-df-convert {\n",
              "      background-color: #E8F0FE;\n",
              "      border: none;\n",
              "      border-radius: 50%;\n",
              "      cursor: pointer;\n",
              "      display: none;\n",
              "      fill: #1967D2;\n",
              "      height: 32px;\n",
              "      padding: 0 0 0 0;\n",
              "      width: 32px;\n",
              "    }\n",
              "\n",
              "    .colab-df-convert:hover {\n",
              "      background-color: #E2EBFA;\n",
              "      box-shadow: 0px 1px 2px rgba(60, 64, 67, 0.3), 0px 1px 3px 1px rgba(60, 64, 67, 0.15);\n",
              "      fill: #174EA6;\n",
              "    }\n",
              "\n",
              "    .colab-df-buttons div {\n",
              "      margin-bottom: 4px;\n",
              "    }\n",
              "\n",
              "    [theme=dark] .colab-df-convert {\n",
              "      background-color: #3B4455;\n",
              "      fill: #D2E3FC;\n",
              "    }\n",
              "\n",
              "    [theme=dark] .colab-df-convert:hover {\n",
              "      background-color: #434B5C;\n",
              "      box-shadow: 0px 1px 3px 1px rgba(0, 0, 0, 0.15);\n",
              "      filter: drop-shadow(0px 1px 2px rgba(0, 0, 0, 0.3));\n",
              "      fill: #FFFFFF;\n",
              "    }\n",
              "  </style>\n",
              "\n",
              "    <script>\n",
              "      const buttonEl =\n",
              "        document.querySelector('#df-208ebbd0-21ad-4fd7-a3ac-ff8e1bf9f65c button.colab-df-convert');\n",
              "      buttonEl.style.display =\n",
              "        google.colab.kernel.accessAllowed ? 'block' : 'none';\n",
              "\n",
              "      async function convertToInteractive(key) {\n",
              "        const element = document.querySelector('#df-208ebbd0-21ad-4fd7-a3ac-ff8e1bf9f65c');\n",
              "        const dataTable =\n",
              "          await google.colab.kernel.invokeFunction('convertToInteractive',\n",
              "                                                    [key], {});\n",
              "        if (!dataTable) return;\n",
              "\n",
              "        const docLinkHtml = 'Like what you see? Visit the ' +\n",
              "          '<a target=\"_blank\" href=https://colab.research.google.com/notebooks/data_table.ipynb>data table notebook</a>'\n",
              "          + ' to learn more about interactive tables.';\n",
              "        element.innerHTML = '';\n",
              "        dataTable['output_type'] = 'display_data';\n",
              "        await google.colab.output.renderOutput(dataTable, element);\n",
              "        const docLink = document.createElement('div');\n",
              "        docLink.innerHTML = docLinkHtml;\n",
              "        element.appendChild(docLink);\n",
              "      }\n",
              "    </script>\n",
              "  </div>\n",
              "\n",
              "\n",
              "<div id=\"df-c8362b02-f475-4556-abfb-b1c6baf300d9\">\n",
              "  <button class=\"colab-df-quickchart\" onclick=\"quickchart('df-c8362b02-f475-4556-abfb-b1c6baf300d9')\"\n",
              "            title=\"Suggest charts.\"\n",
              "            style=\"display:none;\">\n",
              "\n",
              "<svg xmlns=\"http://www.w3.org/2000/svg\" height=\"24px\"viewBox=\"0 0 24 24\"\n",
              "     width=\"24px\">\n",
              "    <g>\n",
              "        <path d=\"M19 3H5c-1.1 0-2 .9-2 2v14c0 1.1.9 2 2 2h14c1.1 0 2-.9 2-2V5c0-1.1-.9-2-2-2zM9 17H7v-7h2v7zm4 0h-2V7h2v10zm4 0h-2v-4h2v4z\"/>\n",
              "    </g>\n",
              "</svg>\n",
              "  </button>\n",
              "\n",
              "<style>\n",
              "  .colab-df-quickchart {\n",
              "    background-color: #E8F0FE;\n",
              "    border: none;\n",
              "    border-radius: 50%;\n",
              "    cursor: pointer;\n",
              "    display: none;\n",
              "    fill: #1967D2;\n",
              "    height: 32px;\n",
              "    padding: 0 0 0 0;\n",
              "    width: 32px;\n",
              "  }\n",
              "\n",
              "  .colab-df-quickchart:hover {\n",
              "    background-color: #E2EBFA;\n",
              "    box-shadow: 0px 1px 2px rgba(60, 64, 67, 0.3), 0px 1px 3px 1px rgba(60, 64, 67, 0.15);\n",
              "    fill: #174EA6;\n",
              "  }\n",
              "\n",
              "  [theme=dark] .colab-df-quickchart {\n",
              "    background-color: #3B4455;\n",
              "    fill: #D2E3FC;\n",
              "  }\n",
              "\n",
              "  [theme=dark] .colab-df-quickchart:hover {\n",
              "    background-color: #434B5C;\n",
              "    box-shadow: 0px 1px 3px 1px rgba(0, 0, 0, 0.15);\n",
              "    filter: drop-shadow(0px 1px 2px rgba(0, 0, 0, 0.3));\n",
              "    fill: #FFFFFF;\n",
              "  }\n",
              "</style>\n",
              "\n",
              "  <script>\n",
              "    async function quickchart(key) {\n",
              "      const charts = await google.colab.kernel.invokeFunction(\n",
              "          'suggestCharts', [key], {});\n",
              "    }\n",
              "    (() => {\n",
              "      let quickchartButtonEl =\n",
              "        document.querySelector('#df-c8362b02-f475-4556-abfb-b1c6baf300d9 button');\n",
              "      quickchartButtonEl.style.display =\n",
              "        google.colab.kernel.accessAllowed ? 'block' : 'none';\n",
              "    })();\n",
              "  </script>\n",
              "</div>\n",
              "    </div>\n",
              "  </div>\n"
            ]
          },
          "metadata": {},
          "execution_count": 27
        }
      ]
    },
    {
      "cell_type": "code",
      "source": [
        "X.info()"
      ],
      "metadata": {
        "colab": {
          "base_uri": "https://localhost:8080/"
        },
        "id": "xUqDBgrxsIKL",
        "outputId": "11673970-e04a-4aac-b20f-c6eac4a5b77d"
      },
      "execution_count": null,
      "outputs": [
        {
          "output_type": "stream",
          "name": "stdout",
          "text": [
            "<class 'pandas.core.frame.DataFrame'>\n",
            "Int64Index: 3000 entries, 25887 to 21632\n",
            "Data columns (total 51 columns):\n",
            " #   Column           Non-Null Count  Dtype  \n",
            "---  ------           --------------  -----  \n",
            " 0   age              3000 non-null   float64\n",
            " 1   weight           3000 non-null   float64\n",
            " 2   shoulder-height  3000 non-null   float64\n",
            " 3   neck-size        3000 non-null   float64\n",
            " 4   back-length      3000 non-null   float64\n",
            " 5   chest-size       3000 non-null   float64\n",
            " 6   exercise         3000 non-null   int64  \n",
            " 7   environment      3000 non-null   int64  \n",
            " 8   defecation       3000 non-null   int64  \n",
            " 9   food-count       3000 non-null   int64  \n",
            " 10  food-amount      3000 non-null   float64\n",
            " 11  snack-amount     3000 non-null   float64\n",
            " 12  food-kind        3000 non-null   int64  \n",
            " 13  group_LL         3000 non-null   uint8  \n",
            " 14  group_LS         3000 non-null   uint8  \n",
            " 15  group_ML         3000 non-null   uint8  \n",
            " 16  group_MS         3000 non-null   uint8  \n",
            " 17  group_SL         3000 non-null   uint8  \n",
            " 18  group_SS         3000 non-null   uint8  \n",
            " 19  breed_BEA        3000 non-null   uint8  \n",
            " 20  breed_BIC        3000 non-null   uint8  \n",
            " 21  breed_BUL        3000 non-null   uint8  \n",
            " 22  breed_CHL        3000 non-null   uint8  \n",
            " 23  breed_CHS        3000 non-null   uint8  \n",
            " 24  breed_COC        3000 non-null   uint8  \n",
            " 25  breed_DAL        3000 non-null   uint8  \n",
            " 26  breed_DAS        3000 non-null   uint8  \n",
            " 27  breed_DOB        3000 non-null   uint8  \n",
            " 28  breed_DRI        3000 non-null   uint8  \n",
            " 29  breed_ETC        3000 non-null   uint8  \n",
            " 30  breed_GER        3000 non-null   uint8  \n",
            " 31  breed_GOL        3000 non-null   uint8  \n",
            " 32  breed_GRE        3000 non-null   uint8  \n",
            " 33  breed_HOU        3000 non-null   uint8  \n",
            " 34  breed_HUS        3000 non-null   uint8  \n",
            " 35  breed_JIN        3000 non-null   uint8  \n",
            " 36  breed_LAB        3000 non-null   uint8  \n",
            " 37  breed_MAL        3000 non-null   uint8  \n",
            " 38  breed_MIL        3000 non-null   uint8  \n",
            " 39  breed_MIS        3000 non-null   uint8  \n",
            " 40  breed_MUT        3000 non-null   uint8  \n",
            " 41  breed_POM        3000 non-null   uint8  \n",
            " 42  breed_POO        3000 non-null   uint8  \n",
            " 43  breed_SCH        3000 non-null   uint8  \n",
            " 44  breed_SHE        3000 non-null   uint8  \n",
            " 45  breed_TER        3000 non-null   uint8  \n",
            " 46  breed_WEL        3000 non-null   uint8  \n",
            " 47  sex_CM           3000 non-null   uint8  \n",
            " 48  sex_IF           3000 non-null   uint8  \n",
            " 49  sex_IM           3000 non-null   uint8  \n",
            " 50  sex_SF           3000 non-null   uint8  \n",
            "dtypes: float64(8), int64(5), uint8(38)\n",
            "memory usage: 439.5 KB\n"
          ]
        }
      ]
    },
    {
      "cell_type": "code",
      "source": [
        "y"
      ],
      "metadata": {
        "colab": {
          "base_uri": "https://localhost:8080/"
        },
        "id": "tKhf2WeCsMOp",
        "outputId": "c6aab65f-a24b-47ff-c27f-3bd6c68274b4"
      },
      "execution_count": null,
      "outputs": [
        {
          "output_type": "execute_result",
          "data": {
            "text/plain": [
              "25887     정상\n",
              "54274     정상\n",
              "23873     정상\n",
              "7149      정상\n",
              "62110     정상\n",
              "        ... \n",
              "48721     정상\n",
              "43337    과체중\n",
              "22835     정상\n",
              "10424     정상\n",
              "21632    과체중\n",
              "Name: BCS, Length: 3000, dtype: object"
            ]
          },
          "metadata": {},
          "execution_count": 29
        }
      ]
    },
    {
      "cell_type": "markdown",
      "source": [
        "## **라. Label Encoding**"
      ],
      "metadata": {
        "id": "WwssXiw8MZVb"
      }
    },
    {
      "cell_type": "code",
      "source": [
        "# 실습 코드 : Target 값 라벨 인코딩\n",
        "\n",
        "label_encoder = LabelEncoder()\n",
        "y = label_encoder.fit_transform(y)"
      ],
      "metadata": {
        "id": "VGrddsM3pFxe"
      },
      "execution_count": null,
      "outputs": []
    },
    {
      "cell_type": "code",
      "source": [
        "y"
      ],
      "metadata": {
        "colab": {
          "base_uri": "https://localhost:8080/"
        },
        "id": "-A96slCypM9w",
        "outputId": "ccb1b61b-58b1-444f-8983-f2c29a497a37"
      },
      "execution_count": null,
      "outputs": [
        {
          "output_type": "execute_result",
          "data": {
            "text/plain": [
              "array([2, 2, 2, ..., 2, 2, 0])"
            ]
          },
          "metadata": {},
          "execution_count": 31
        }
      ]
    },
    {
      "cell_type": "code",
      "source": [
        "# 원-핫 인코딩\n",
        "# onehot_encoder = OneHotEncoder(sparse=False)\n",
        "# X_encoded = onehot_encoder.fit_transform(np.array(X).reshape(-1, 1))\n",
        "# X_encoded.shape"
      ],
      "metadata": {
        "id": "69mrBWlmX2ls"
      },
      "execution_count": null,
      "outputs": []
    },
    {
      "cell_type": "code",
      "source": [
        "# 실습 코드 : X, y 형태(차원, 행열수) 확인\n",
        "\n",
        "X.shape, y.shape"
      ],
      "metadata": {
        "colab": {
          "base_uri": "https://localhost:8080/"
        },
        "id": "JFA2erMirbXI",
        "outputId": "ffecc0bf-e29c-42b2-990a-3e6823fc6714"
      },
      "execution_count": null,
      "outputs": [
        {
          "output_type": "execute_result",
          "data": {
            "text/plain": [
              "((3000, 51), (3000,))"
            ]
          },
          "metadata": {},
          "execution_count": 33
        }
      ]
    },
    {
      "cell_type": "markdown",
      "source": [
        "## **마. Train/Test 데이터 분리**"
      ],
      "metadata": {
        "id": "VPm75FHSoWPj"
      }
    },
    {
      "cell_type": "code",
      "source": [
        "# 실습 코드 : train Data 와 test Data 분리 (test_size=0.2, random_state=42)\n",
        "\n",
        "X_train, X_test, y_train, y_test = train_test_split(\n",
        "    X,\n",
        "    y,\n",
        "    test_size=0.2,\n",
        "    random_state=42\n",
        "    )"
      ],
      "metadata": {
        "id": "XiXQvkgOoej2"
      },
      "execution_count": null,
      "outputs": []
    },
    {
      "cell_type": "markdown",
      "source": [
        "# **4. 모델링**"
      ],
      "metadata": {
        "id": "MGu--gnHbtPh"
      }
    },
    {
      "cell_type": "markdown",
      "source": [
        "## **가. Random Forest**"
      ],
      "metadata": {
        "id": "U90OE-CSNWUD"
      }
    },
    {
      "cell_type": "markdown",
      "source": [
        "**Step 0. 라이브러리 로딩**"
      ],
      "metadata": {
        "id": "ABjN1dvblNS1"
      }
    },
    {
      "cell_type": "code",
      "source": [
        "from sklearn.ensemble import RandomForestClassifier"
      ],
      "metadata": {
        "id": "lY2-XaOKlb6r"
      },
      "execution_count": null,
      "outputs": []
    },
    {
      "cell_type": "markdown",
      "source": [
        "**Step 1. 모델 생성**"
      ],
      "metadata": {
        "id": "b3LZHtrEltNk"
      }
    },
    {
      "cell_type": "code",
      "source": [
        "# 실습 코드 : Random Foreset 모델 생성 (n_estimators=100, random_state=42)\n",
        "\n",
        "model_rf = RandomForestClassifier(\n",
        "    n_estimators=100,\n",
        "    random_state=42,\n",
        "    max_features=None,\n",
        "    max_depth=None,\n",
        "    max_leaf_nodes=None\n",
        "    )"
      ],
      "metadata": {
        "id": "_qYxJzdnl0nx"
      },
      "execution_count": null,
      "outputs": []
    },
    {
      "cell_type": "markdown",
      "source": [
        "**Step 2. 모델 학습**"
      ],
      "metadata": {
        "id": "fBwv7fuDl1Q6"
      }
    },
    {
      "cell_type": "code",
      "source": [
        "# 실습 코드 : 모델 학습\n",
        "\n",
        "model_rf.fit(X_train, y_train)"
      ],
      "metadata": {
        "colab": {
          "base_uri": "https://localhost:8080/",
          "height": 75
        },
        "id": "WdqAxn8RsOLU",
        "outputId": "ec8aac16-8147-48cc-dbb1-8750d0e76d74"
      },
      "execution_count": null,
      "outputs": [
        {
          "output_type": "execute_result",
          "data": {
            "text/plain": [
              "RandomForestClassifier(max_features=None, random_state=42)"
            ],
            "text/html": [
              "<style>#sk-container-id-1 {color: black;background-color: white;}#sk-container-id-1 pre{padding: 0;}#sk-container-id-1 div.sk-toggleable {background-color: white;}#sk-container-id-1 label.sk-toggleable__label {cursor: pointer;display: block;width: 100%;margin-bottom: 0;padding: 0.3em;box-sizing: border-box;text-align: center;}#sk-container-id-1 label.sk-toggleable__label-arrow:before {content: \"▸\";float: left;margin-right: 0.25em;color: #696969;}#sk-container-id-1 label.sk-toggleable__label-arrow:hover:before {color: black;}#sk-container-id-1 div.sk-estimator:hover label.sk-toggleable__label-arrow:before {color: black;}#sk-container-id-1 div.sk-toggleable__content {max-height: 0;max-width: 0;overflow: hidden;text-align: left;background-color: #f0f8ff;}#sk-container-id-1 div.sk-toggleable__content pre {margin: 0.2em;color: black;border-radius: 0.25em;background-color: #f0f8ff;}#sk-container-id-1 input.sk-toggleable__control:checked~div.sk-toggleable__content {max-height: 200px;max-width: 100%;overflow: auto;}#sk-container-id-1 input.sk-toggleable__control:checked~label.sk-toggleable__label-arrow:before {content: \"▾\";}#sk-container-id-1 div.sk-estimator input.sk-toggleable__control:checked~label.sk-toggleable__label {background-color: #d4ebff;}#sk-container-id-1 div.sk-label input.sk-toggleable__control:checked~label.sk-toggleable__label {background-color: #d4ebff;}#sk-container-id-1 input.sk-hidden--visually {border: 0;clip: rect(1px 1px 1px 1px);clip: rect(1px, 1px, 1px, 1px);height: 1px;margin: -1px;overflow: hidden;padding: 0;position: absolute;width: 1px;}#sk-container-id-1 div.sk-estimator {font-family: monospace;background-color: #f0f8ff;border: 1px dotted black;border-radius: 0.25em;box-sizing: border-box;margin-bottom: 0.5em;}#sk-container-id-1 div.sk-estimator:hover {background-color: #d4ebff;}#sk-container-id-1 div.sk-parallel-item::after {content: \"\";width: 100%;border-bottom: 1px solid gray;flex-grow: 1;}#sk-container-id-1 div.sk-label:hover label.sk-toggleable__label {background-color: #d4ebff;}#sk-container-id-1 div.sk-serial::before {content: \"\";position: absolute;border-left: 1px solid gray;box-sizing: border-box;top: 0;bottom: 0;left: 50%;z-index: 0;}#sk-container-id-1 div.sk-serial {display: flex;flex-direction: column;align-items: center;background-color: white;padding-right: 0.2em;padding-left: 0.2em;position: relative;}#sk-container-id-1 div.sk-item {position: relative;z-index: 1;}#sk-container-id-1 div.sk-parallel {display: flex;align-items: stretch;justify-content: center;background-color: white;position: relative;}#sk-container-id-1 div.sk-item::before, #sk-container-id-1 div.sk-parallel-item::before {content: \"\";position: absolute;border-left: 1px solid gray;box-sizing: border-box;top: 0;bottom: 0;left: 50%;z-index: -1;}#sk-container-id-1 div.sk-parallel-item {display: flex;flex-direction: column;z-index: 1;position: relative;background-color: white;}#sk-container-id-1 div.sk-parallel-item:first-child::after {align-self: flex-end;width: 50%;}#sk-container-id-1 div.sk-parallel-item:last-child::after {align-self: flex-start;width: 50%;}#sk-container-id-1 div.sk-parallel-item:only-child::after {width: 0;}#sk-container-id-1 div.sk-dashed-wrapped {border: 1px dashed gray;margin: 0 0.4em 0.5em 0.4em;box-sizing: border-box;padding-bottom: 0.4em;background-color: white;}#sk-container-id-1 div.sk-label label {font-family: monospace;font-weight: bold;display: inline-block;line-height: 1.2em;}#sk-container-id-1 div.sk-label-container {text-align: center;}#sk-container-id-1 div.sk-container {/* jupyter's `normalize.less` sets `[hidden] { display: none; }` but bootstrap.min.css set `[hidden] { display: none !important; }` so we also need the `!important` here to be able to override the default hidden behavior on the sphinx rendered scikit-learn.org. See: https://github.com/scikit-learn/scikit-learn/issues/21755 */display: inline-block !important;position: relative;}#sk-container-id-1 div.sk-text-repr-fallback {display: none;}</style><div id=\"sk-container-id-1\" class=\"sk-top-container\"><div class=\"sk-text-repr-fallback\"><pre>RandomForestClassifier(max_features=None, random_state=42)</pre><b>In a Jupyter environment, please rerun this cell to show the HTML representation or trust the notebook. <br />On GitHub, the HTML representation is unable to render, please try loading this page with nbviewer.org.</b></div><div class=\"sk-container\" hidden><div class=\"sk-item\"><div class=\"sk-estimator sk-toggleable\"><input class=\"sk-toggleable__control sk-hidden--visually\" id=\"sk-estimator-id-1\" type=\"checkbox\" checked><label for=\"sk-estimator-id-1\" class=\"sk-toggleable__label sk-toggleable__label-arrow\">RandomForestClassifier</label><div class=\"sk-toggleable__content\"><pre>RandomForestClassifier(max_features=None, random_state=42)</pre></div></div></div></div></div>"
            ]
          },
          "metadata": {},
          "execution_count": 37
        }
      ]
    },
    {
      "cell_type": "markdown",
      "source": [
        "**Step 3. 결과 검증**"
      ],
      "metadata": {
        "id": "Zwk3B6zCsRIZ"
      }
    },
    {
      "cell_type": "code",
      "source": [
        "# 실습 코드 : 값 예측\n",
        "\n",
        "pred_rf = model_rf.predict(X_test)"
      ],
      "metadata": {
        "id": "NoaIInUCsQpK"
      },
      "execution_count": null,
      "outputs": []
    },
    {
      "cell_type": "code",
      "source": [
        "# 실습 코드 : 성능 평가 (classificatio_report, accuracy_score)\n",
        "\n",
        "print(classification_report(y_test, pred_rf))\n",
        "print(\"Accuracy:\", accuracy_score(y_test, pred_rf))"
      ],
      "metadata": {
        "colab": {
          "base_uri": "https://localhost:8080/"
        },
        "id": "_A5MJAqGfNNg",
        "outputId": "6e3c2f43-ab5e-4128-9922-3394769dc5d0"
      },
      "execution_count": null,
      "outputs": [
        {
          "output_type": "stream",
          "name": "stdout",
          "text": [
            "              precision    recall  f1-score   support\n",
            "\n",
            "           0       0.81      0.63      0.71        76\n",
            "           1       0.92      0.50      0.65        24\n",
            "           2       0.92      0.98      0.95       500\n",
            "\n",
            "    accuracy                           0.91       600\n",
            "   macro avg       0.89      0.70      0.77       600\n",
            "weighted avg       0.91      0.91      0.91       600\n",
            "\n",
            "Accuracy: 0.9133333333333333\n"
          ]
        }
      ]
    },
    {
      "cell_type": "markdown",
      "source": [
        "**Step 4. 결과 분석**"
      ],
      "metadata": {
        "id": "LLn-eBeCs56U"
      }
    },
    {
      "cell_type": "code",
      "source": [
        "# 실습 코드 : 피처 중요도 확인\n",
        "\n",
        "fi = pd.DataFrame(model_rf.feature_importances_)\n",
        "fi.index = model_rf.feature_names_in_\n",
        "fi = fi.sort_values(0, ascending = False)\n",
        "fi.head(10)"
      ],
      "metadata": {
        "colab": {
          "base_uri": "https://localhost:8080/",
          "height": 363
        },
        "id": "QhlLqHkTfvA3",
        "outputId": "48298c54-2001-4f18-f6fa-b50f362b81c9"
      },
      "execution_count": null,
      "outputs": [
        {
          "output_type": "execute_result",
          "data": {
            "text/plain": [
              "                        0\n",
              "chest-size       0.138932\n",
              "weight           0.123401\n",
              "back-length      0.111245\n",
              "neck-size        0.098588\n",
              "age              0.082223\n",
              "shoulder-height  0.082137\n",
              "food-amount      0.054456\n",
              "snack-amount     0.051157\n",
              "exercise         0.046729\n",
              "food-count       0.029620"
            ],
            "text/html": [
              "\n",
              "  <div id=\"df-4f2c446e-6436-4c9a-b443-bf30b163d9e7\" class=\"colab-df-container\">\n",
              "    <div>\n",
              "<style scoped>\n",
              "    .dataframe tbody tr th:only-of-type {\n",
              "        vertical-align: middle;\n",
              "    }\n",
              "\n",
              "    .dataframe tbody tr th {\n",
              "        vertical-align: top;\n",
              "    }\n",
              "\n",
              "    .dataframe thead th {\n",
              "        text-align: right;\n",
              "    }\n",
              "</style>\n",
              "<table border=\"1\" class=\"dataframe\">\n",
              "  <thead>\n",
              "    <tr style=\"text-align: right;\">\n",
              "      <th></th>\n",
              "      <th>0</th>\n",
              "    </tr>\n",
              "  </thead>\n",
              "  <tbody>\n",
              "    <tr>\n",
              "      <th>chest-size</th>\n",
              "      <td>0.138932</td>\n",
              "    </tr>\n",
              "    <tr>\n",
              "      <th>weight</th>\n",
              "      <td>0.123401</td>\n",
              "    </tr>\n",
              "    <tr>\n",
              "      <th>back-length</th>\n",
              "      <td>0.111245</td>\n",
              "    </tr>\n",
              "    <tr>\n",
              "      <th>neck-size</th>\n",
              "      <td>0.098588</td>\n",
              "    </tr>\n",
              "    <tr>\n",
              "      <th>age</th>\n",
              "      <td>0.082223</td>\n",
              "    </tr>\n",
              "    <tr>\n",
              "      <th>shoulder-height</th>\n",
              "      <td>0.082137</td>\n",
              "    </tr>\n",
              "    <tr>\n",
              "      <th>food-amount</th>\n",
              "      <td>0.054456</td>\n",
              "    </tr>\n",
              "    <tr>\n",
              "      <th>snack-amount</th>\n",
              "      <td>0.051157</td>\n",
              "    </tr>\n",
              "    <tr>\n",
              "      <th>exercise</th>\n",
              "      <td>0.046729</td>\n",
              "    </tr>\n",
              "    <tr>\n",
              "      <th>food-count</th>\n",
              "      <td>0.029620</td>\n",
              "    </tr>\n",
              "  </tbody>\n",
              "</table>\n",
              "</div>\n",
              "    <div class=\"colab-df-buttons\">\n",
              "\n",
              "  <div class=\"colab-df-container\">\n",
              "    <button class=\"colab-df-convert\" onclick=\"convertToInteractive('df-4f2c446e-6436-4c9a-b443-bf30b163d9e7')\"\n",
              "            title=\"Convert this dataframe to an interactive table.\"\n",
              "            style=\"display:none;\">\n",
              "\n",
              "  <svg xmlns=\"http://www.w3.org/2000/svg\" height=\"24px\" viewBox=\"0 -960 960 960\">\n",
              "    <path d=\"M120-120v-720h720v720H120Zm60-500h600v-160H180v160Zm220 220h160v-160H400v160Zm0 220h160v-160H400v160ZM180-400h160v-160H180v160Zm440 0h160v-160H620v160ZM180-180h160v-160H180v160Zm440 0h160v-160H620v160Z\"/>\n",
              "  </svg>\n",
              "    </button>\n",
              "\n",
              "  <style>\n",
              "    .colab-df-container {\n",
              "      display:flex;\n",
              "      gap: 12px;\n",
              "    }\n",
              "\n",
              "    .colab-df-convert {\n",
              "      background-color: #E8F0FE;\n",
              "      border: none;\n",
              "      border-radius: 50%;\n",
              "      cursor: pointer;\n",
              "      display: none;\n",
              "      fill: #1967D2;\n",
              "      height: 32px;\n",
              "      padding: 0 0 0 0;\n",
              "      width: 32px;\n",
              "    }\n",
              "\n",
              "    .colab-df-convert:hover {\n",
              "      background-color: #E2EBFA;\n",
              "      box-shadow: 0px 1px 2px rgba(60, 64, 67, 0.3), 0px 1px 3px 1px rgba(60, 64, 67, 0.15);\n",
              "      fill: #174EA6;\n",
              "    }\n",
              "\n",
              "    .colab-df-buttons div {\n",
              "      margin-bottom: 4px;\n",
              "    }\n",
              "\n",
              "    [theme=dark] .colab-df-convert {\n",
              "      background-color: #3B4455;\n",
              "      fill: #D2E3FC;\n",
              "    }\n",
              "\n",
              "    [theme=dark] .colab-df-convert:hover {\n",
              "      background-color: #434B5C;\n",
              "      box-shadow: 0px 1px 3px 1px rgba(0, 0, 0, 0.15);\n",
              "      filter: drop-shadow(0px 1px 2px rgba(0, 0, 0, 0.3));\n",
              "      fill: #FFFFFF;\n",
              "    }\n",
              "  </style>\n",
              "\n",
              "    <script>\n",
              "      const buttonEl =\n",
              "        document.querySelector('#df-4f2c446e-6436-4c9a-b443-bf30b163d9e7 button.colab-df-convert');\n",
              "      buttonEl.style.display =\n",
              "        google.colab.kernel.accessAllowed ? 'block' : 'none';\n",
              "\n",
              "      async function convertToInteractive(key) {\n",
              "        const element = document.querySelector('#df-4f2c446e-6436-4c9a-b443-bf30b163d9e7');\n",
              "        const dataTable =\n",
              "          await google.colab.kernel.invokeFunction('convertToInteractive',\n",
              "                                                    [key], {});\n",
              "        if (!dataTable) return;\n",
              "\n",
              "        const docLinkHtml = 'Like what you see? Visit the ' +\n",
              "          '<a target=\"_blank\" href=https://colab.research.google.com/notebooks/data_table.ipynb>data table notebook</a>'\n",
              "          + ' to learn more about interactive tables.';\n",
              "        element.innerHTML = '';\n",
              "        dataTable['output_type'] = 'display_data';\n",
              "        await google.colab.output.renderOutput(dataTable, element);\n",
              "        const docLink = document.createElement('div');\n",
              "        docLink.innerHTML = docLinkHtml;\n",
              "        element.appendChild(docLink);\n",
              "      }\n",
              "    </script>\n",
              "  </div>\n",
              "\n",
              "\n",
              "<div id=\"df-1e9ab1b1-17bf-4f0f-8827-4a0c3e47cad2\">\n",
              "  <button class=\"colab-df-quickchart\" onclick=\"quickchart('df-1e9ab1b1-17bf-4f0f-8827-4a0c3e47cad2')\"\n",
              "            title=\"Suggest charts.\"\n",
              "            style=\"display:none;\">\n",
              "\n",
              "<svg xmlns=\"http://www.w3.org/2000/svg\" height=\"24px\"viewBox=\"0 0 24 24\"\n",
              "     width=\"24px\">\n",
              "    <g>\n",
              "        <path d=\"M19 3H5c-1.1 0-2 .9-2 2v14c0 1.1.9 2 2 2h14c1.1 0 2-.9 2-2V5c0-1.1-.9-2-2-2zM9 17H7v-7h2v7zm4 0h-2V7h2v10zm4 0h-2v-4h2v4z\"/>\n",
              "    </g>\n",
              "</svg>\n",
              "  </button>\n",
              "\n",
              "<style>\n",
              "  .colab-df-quickchart {\n",
              "    background-color: #E8F0FE;\n",
              "    border: none;\n",
              "    border-radius: 50%;\n",
              "    cursor: pointer;\n",
              "    display: none;\n",
              "    fill: #1967D2;\n",
              "    height: 32px;\n",
              "    padding: 0 0 0 0;\n",
              "    width: 32px;\n",
              "  }\n",
              "\n",
              "  .colab-df-quickchart:hover {\n",
              "    background-color: #E2EBFA;\n",
              "    box-shadow: 0px 1px 2px rgba(60, 64, 67, 0.3), 0px 1px 3px 1px rgba(60, 64, 67, 0.15);\n",
              "    fill: #174EA6;\n",
              "  }\n",
              "\n",
              "  [theme=dark] .colab-df-quickchart {\n",
              "    background-color: #3B4455;\n",
              "    fill: #D2E3FC;\n",
              "  }\n",
              "\n",
              "  [theme=dark] .colab-df-quickchart:hover {\n",
              "    background-color: #434B5C;\n",
              "    box-shadow: 0px 1px 3px 1px rgba(0, 0, 0, 0.15);\n",
              "    filter: drop-shadow(0px 1px 2px rgba(0, 0, 0, 0.3));\n",
              "    fill: #FFFFFF;\n",
              "  }\n",
              "</style>\n",
              "\n",
              "  <script>\n",
              "    async function quickchart(key) {\n",
              "      const charts = await google.colab.kernel.invokeFunction(\n",
              "          'suggestCharts', [key], {});\n",
              "    }\n",
              "    (() => {\n",
              "      let quickchartButtonEl =\n",
              "        document.querySelector('#df-1e9ab1b1-17bf-4f0f-8827-4a0c3e47cad2 button');\n",
              "      quickchartButtonEl.style.display =\n",
              "        google.colab.kernel.accessAllowed ? 'block' : 'none';\n",
              "    })();\n",
              "  </script>\n",
              "</div>\n",
              "    </div>\n",
              "  </div>\n"
            ]
          },
          "metadata": {},
          "execution_count": 40
        }
      ]
    },
    {
      "cell_type": "code",
      "source": [
        "# 실습 코드 : 피처 중요도 시각화\n",
        "\n",
        "import matplotlib.pyplot as plt\n",
        "\n",
        "fi.columns = ['importance']\n",
        "fi.head(10).plot(kind='barh', figsize=(10, 7))\n",
        "plt.title('Feature Importances')\n",
        "plt.xlabel('Importance')\n",
        "plt.ylabel('Feature')\n",
        "plt.gca().invert_yaxis()\n",
        "plt.tight_layout()\n",
        "plt.show()"
      ],
      "metadata": {
        "colab": {
          "base_uri": "https://localhost:8080/",
          "height": 707
        },
        "id": "7ht8ypi1xA5X",
        "outputId": "c8baf030-20b9-499e-d0f1-6e204043dabc"
      },
      "execution_count": null,
      "outputs": [
        {
          "output_type": "display_data",
          "data": {
            "text/plain": [
              "<Figure size 1000x700 with 1 Axes>"
            ],
            "image/png": "[encoded data removed]"
          },
          "metadata": {}
        }
      ]
    },
    {
      "cell_type": "markdown",
      "source": [
        "## **나. Decision Tree**"
      ],
      "metadata": {
        "id": "m5kezKABtV1V"
      }
    },
    {
      "cell_type": "markdown",
      "source": [
        "**Step 0. 라이브러리 로딩**"
      ],
      "metadata": {
        "id": "7X5iCdQIuo4f"
      }
    },
    {
      "cell_type": "code",
      "source": [
        "from sklearn.tree import DecisionTreeClassifier"
      ],
      "metadata": {
        "id": "If1-zB-8ytFw"
      },
      "execution_count": null,
      "outputs": []
    },
    {
      "cell_type": "markdown",
      "source": [
        "**Step 1. 모델 생성**"
      ],
      "metadata": {
        "id": "Y5wZ2gaiu3y9"
      }
    },
    {
      "cell_type": "code",
      "source": [
        "# 실습 코드 : Decision Tree 모델 생성 (n_estimators=100, random_state=42)\n",
        "\n",
        "model_dt = DecisionTreeClassifier(\n",
        "    min_samples_split = 2,\n",
        "    min_samples_leaf = 1,\n",
        "    max_features = None,\n",
        "    max_depth = None,\n",
        "    max_leaf_nodes = None\n",
        "    )"
      ],
      "metadata": {
        "id": "TNJGVJ2Ku1QY"
      },
      "execution_count": null,
      "outputs": []
    },
    {
      "cell_type": "markdown",
      "source": [
        "**Step 2. 모델 학습**"
      ],
      "metadata": {
        "id": "tmzY5zuOvLsL"
      }
    },
    {
      "cell_type": "code",
      "source": [
        "# 실습 코드 : 모델 학습\n",
        "\n",
        "model_dt.fit(X_train, y_train)"
      ],
      "metadata": {
        "colab": {
          "base_uri": "https://localhost:8080/",
          "height": 75
        },
        "id": "wfVpJjHpvJzW",
        "outputId": "36a64ec5-ef80-4973-c375-6d2e35d71855"
      },
      "execution_count": null,
      "outputs": [
        {
          "output_type": "execute_result",
          "data": {
            "text/plain": [
              "DecisionTreeClassifier()"
            ],
            "text/html": [
              "<style>#sk-container-id-2 {color: black;background-color: white;}#sk-container-id-2 pre{padding: 0;}#sk-container-id-2 div.sk-toggleable {background-color: white;}#sk-container-id-2 label.sk-toggleable__label {cursor: pointer;display: block;width: 100%;margin-bottom: 0;padding: 0.3em;box-sizing: border-box;text-align: center;}#sk-container-id-2 label.sk-toggleable__label-arrow:before {content: \"▸\";float: left;margin-right: 0.25em;color: #696969;}#sk-container-id-2 label.sk-toggleable__label-arrow:hover:before {color: black;}#sk-container-id-2 div.sk-estimator:hover label.sk-toggleable__label-arrow:before {color: black;}#sk-container-id-2 div.sk-toggleable__content {max-height: 0;max-width: 0;overflow: hidden;text-align: left;background-color: #f0f8ff;}#sk-container-id-2 div.sk-toggleable__content pre {margin: 0.2em;color: black;border-radius: 0.25em;background-color: #f0f8ff;}#sk-container-id-2 input.sk-toggleable__control:checked~div.sk-toggleable__content {max-height: 200px;max-width: 100%;overflow: auto;}#sk-container-id-2 input.sk-toggleable__control:checked~label.sk-toggleable__label-arrow:before {content: \"▾\";}#sk-container-id-2 div.sk-estimator input.sk-toggleable__control:checked~label.sk-toggleable__label {background-color: #d4ebff;}#sk-container-id-2 div.sk-label input.sk-toggleable__control:checked~label.sk-toggleable__label {background-color: #d4ebff;}#sk-container-id-2 input.sk-hidden--visually {border: 0;clip: rect(1px 1px 1px 1px);clip: rect(1px, 1px, 1px, 1px);height: 1px;margin: -1px;overflow: hidden;padding: 0;position: absolute;width: 1px;}#sk-container-id-2 div.sk-estimator {font-family: monospace;background-color: #f0f8ff;border: 1px dotted black;border-radius: 0.25em;box-sizing: border-box;margin-bottom: 0.5em;}#sk-container-id-2 div.sk-estimator:hover {background-color: #d4ebff;}#sk-container-id-2 div.sk-parallel-item::after {content: \"\";width: 100%;border-bottom: 1px solid gray;flex-grow: 1;}#sk-container-id-2 div.sk-label:hover label.sk-toggleable__label {background-color: #d4ebff;}#sk-container-id-2 div.sk-serial::before {content: \"\";position: absolute;border-left: 1px solid gray;box-sizing: border-box;top: 0;bottom: 0;left: 50%;z-index: 0;}#sk-container-id-2 div.sk-serial {display: flex;flex-direction: column;align-items: center;background-color: white;padding-right: 0.2em;padding-left: 0.2em;position: relative;}#sk-container-id-2 div.sk-item {position: relative;z-index: 1;}#sk-container-id-2 div.sk-parallel {display: flex;align-items: stretch;justify-content: center;background-color: white;position: relative;}#sk-container-id-2 div.sk-item::before, #sk-container-id-2 div.sk-parallel-item::before {content: \"\";position: absolute;border-left: 1px solid gray;box-sizing: border-box;top: 0;bottom: 0;left: 50%;z-index: -1;}#sk-container-id-2 div.sk-parallel-item {display: flex;flex-direction: column;z-index: 1;position: relative;background-color: white;}#sk-container-id-2 div.sk-parallel-item:first-child::after {align-self: flex-end;width: 50%;}#sk-container-id-2 div.sk-parallel-item:last-child::after {align-self: flex-start;width: 50%;}#sk-container-id-2 div.sk-parallel-item:only-child::after {width: 0;}#sk-container-id-2 div.sk-dashed-wrapped {border: 1px dashed gray;margin: 0 0.4em 0.5em 0.4em;box-sizing: border-box;padding-bottom: 0.4em;background-color: white;}#sk-container-id-2 div.sk-label label {font-family: monospace;font-weight: bold;display: inline-block;line-height: 1.2em;}#sk-container-id-2 div.sk-label-container {text-align: center;}#sk-container-id-2 div.sk-container {/* jupyter's `normalize.less` sets `[hidden] { display: none; }` but bootstrap.min.css set `[hidden] { display: none !important; }` so we also need the `!important` here to be able to override the default hidden behavior on the sphinx rendered scikit-learn.org. See: https://github.com/scikit-learn/scikit-learn/issues/21755 */display: inline-block !important;position: relative;}#sk-container-id-2 div.sk-text-repr-fallback {display: none;}</style><div id=\"sk-container-id-2\" class=\"sk-top-container\"><div class=\"sk-text-repr-fallback\"><pre>DecisionTreeClassifier()</pre><b>In a Jupyter environment, please rerun this cell to show the HTML representation or trust the notebook. <br />On GitHub, the HTML representation is unable to render, please try loading this page with nbviewer.org.</b></div><div class=\"sk-container\" hidden><div class=\"sk-item\"><div class=\"sk-estimator sk-toggleable\"><input class=\"sk-toggleable__control sk-hidden--visually\" id=\"sk-estimator-id-2\" type=\"checkbox\" checked><label for=\"sk-estimator-id-2\" class=\"sk-toggleable__label sk-toggleable__label-arrow\">DecisionTreeClassifier</label><div class=\"sk-toggleable__content\"><pre>DecisionTreeClassifier()</pre></div></div></div></div></div>"
            ]
          },
          "metadata": {},
          "execution_count": 44
        }
      ]
    },
    {
      "cell_type": "markdown",
      "source": [
        "**Step 3. 결과 검증**"
      ],
      "metadata": {
        "id": "2qFoneLpvlSh"
      }
    },
    {
      "cell_type": "code",
      "source": [
        "# 실습 코드 : 값 예측\n",
        "\n",
        "pred_dt = model_dt.predict(X_test)"
      ],
      "metadata": {
        "id": "Uq4HuTafvWvx"
      },
      "execution_count": null,
      "outputs": []
    },
    {
      "cell_type": "code",
      "source": [
        "# 실습 코드 : 성능 평가 (classificatio_report, accuracy_score)\n",
        "\n",
        "print(classification_report(y_test, pred_dt))\n",
        "print(\"Accuracy:\", accuracy_score(y_test, pred_dt))"
      ],
      "metadata": {
        "colab": {
          "base_uri": "https://localhost:8080/"
        },
        "id": "owG1O2I7v8CH",
        "outputId": "d741d96f-4daf-4fd9-abe2-012cde1b1fd5"
      },
      "execution_count": null,
      "outputs": [
        {
          "output_type": "stream",
          "name": "stdout",
          "text": [
            "              precision    recall  f1-score   support\n",
            "\n",
            "           0       0.68      0.66      0.67        76\n",
            "           1       0.80      0.67      0.73        24\n",
            "           2       0.93      0.95      0.94       500\n",
            "\n",
            "    accuracy                           0.90       600\n",
            "   macro avg       0.80      0.76      0.78       600\n",
            "weighted avg       0.90      0.90      0.90       600\n",
            "\n",
            "Accuracy: 0.8983333333333333\n"
          ]
        }
      ]
    },
    {
      "cell_type": "markdown",
      "source": [
        "## **다. XG Boost**"
      ],
      "metadata": {
        "id": "VvQJlusQ7iuJ"
      }
    },
    {
      "cell_type": "markdown",
      "source": [
        "**Step 0. 라이브러리 로딩**"
      ],
      "metadata": {
        "id": "_JlOJA0E8O55"
      }
    },
    {
      "cell_type": "code",
      "source": [
        "# XG Boost Library\n",
        "import xgboost as xgb"
      ],
      "metadata": {
        "id": "ZpzvO06d8U1B"
      },
      "execution_count": null,
      "outputs": []
    },
    {
      "cell_type": "markdown",
      "source": [
        "**Step 1. 모델 생성**"
      ],
      "metadata": {
        "id": "HqT_wIDy8YF-"
      }
    },
    {
      "cell_type": "code",
      "source": [
        "# 실습 코드 : XG Boost 모델 생성 (objective='multi:softprob', learning_rate=0.1, n_estimators=100)\n",
        "\n",
        "model_xg = xgb.XGBClassifier(\n",
        "    objective='multi:softprob',\n",
        "    learning_rate=0.1,\n",
        "    n_estimators=100,\n",
        "    max_depth=5,\n",
        "    subsample=0.9,\n",
        "    colsample_bytree=0.9,\n",
        "    gamma=0,\n",
        "    seed=42\n",
        "    )"
      ],
      "metadata": {
        "id": "0mnhcaDS8rfr"
      },
      "execution_count": null,
      "outputs": []
    },
    {
      "cell_type": "markdown",
      "source": [
        "**Step 2. 모델 학습**"
      ],
      "metadata": {
        "id": "tsG5dOES8r2F"
      }
    },
    {
      "cell_type": "code",
      "source": [
        "# 실습 코드 : 모델 확습\n",
        "\n",
        "model_xg.fit(X_train, y_train)"
      ],
      "metadata": {
        "colab": {
          "base_uri": "https://localhost:8080/",
          "height": 248
        },
        "id": "BaAW4qzr8sRq",
        "outputId": "5af34e1a-5942-4e1e-f214-47d84e20014d"
      },
      "execution_count": null,
      "outputs": [
        {
          "output_type": "execute_result",
          "data": {
            "text/plain": [
              "XGBClassifier(base_score=None, booster=None, callbacks=None,\n",
              "              colsample_bylevel=None, colsample_bynode=None,\n",
              "              colsample_bytree=0.9, early_stopping_rounds=None,\n",
              "              enable_categorical=False, eval_metric=None, feature_types=None,\n",
              "              gamma=0, gpu_id=None, grow_policy=None, importance_type=None,\n",
              "              interaction_constraints=None, learning_rate=0.1, max_bin=None,\n",
              "              max_cat_threshold=None, max_cat_to_onehot=None,\n",
              "              max_delta_step=None, max_depth=5, max_leaves=None,\n",
              "              min_child_weight=None, missing=nan, monotone_constraints=None,\n",
              "              n_estimators=100, n_jobs=None, num_parallel_tree=None,\n",
              "              objective='multi:softprob', predictor=None, ...)"
            ],
            "text/html": [
              "<style>#sk-container-id-3 {color: black;background-color: white;}#sk-container-id-3 pre{padding: 0;}#sk-container-id-3 div.sk-toggleable {background-color: white;}#sk-container-id-3 label.sk-toggleable__label {cursor: pointer;display: block;width: 100%;margin-bottom: 0;padding: 0.3em;box-sizing: border-box;text-align: center;}#sk-container-id-3 label.sk-toggleable__label-arrow:before {content: \"▸\";float: left;margin-right: 0.25em;color: #696969;}#sk-container-id-3 label.sk-toggleable__label-arrow:hover:before {color: black;}#sk-container-id-3 div.sk-estimator:hover label.sk-toggleable__label-arrow:before {color: black;}#sk-container-id-3 div.sk-toggleable__content {max-height: 0;max-width: 0;overflow: hidden;text-align: left;background-color: #f0f8ff;}#sk-container-id-3 div.sk-toggleable__content pre {margin: 0.2em;color: black;border-radius: 0.25em;background-color: #f0f8ff;}#sk-container-id-3 input.sk-toggleable__control:checked~div.sk-toggleable__content {max-height: 200px;max-width: 100%;overflow: auto;}#sk-container-id-3 input.sk-toggleable__control:checked~label.sk-toggleable__label-arrow:before {content: \"▾\";}#sk-container-id-3 div.sk-estimator input.sk-toggleable__control:checked~label.sk-toggleable__label {background-color: #d4ebff;}#sk-container-id-3 div.sk-label input.sk-toggleable__control:checked~label.sk-toggleable__label {background-color: #d4ebff;}#sk-container-id-3 input.sk-hidden--visually {border: 0;clip: rect(1px 1px 1px 1px);clip: rect(1px, 1px, 1px, 1px);height: 1px;margin: -1px;overflow: hidden;padding: 0;position: absolute;width: 1px;}#sk-container-id-3 div.sk-estimator {font-family: monospace;background-color: #f0f8ff;border: 1px dotted black;border-radius: 0.25em;box-sizing: border-box;margin-bottom: 0.5em;}#sk-container-id-3 div.sk-estimator:hover {background-color: #d4ebff;}#sk-container-id-3 div.sk-parallel-item::after {content: \"\";width: 100%;border-bottom: 1px solid gray;flex-grow: 1;}#sk-container-id-3 div.sk-label:hover label.sk-toggleable__label {background-color: #d4ebff;}#sk-container-id-3 div.sk-serial::before {content: \"\";position: absolute;border-left: 1px solid gray;box-sizing: border-box;top: 0;bottom: 0;left: 50%;z-index: 0;}#sk-container-id-3 div.sk-serial {display: flex;flex-direction: column;align-items: center;background-color: white;padding-right: 0.2em;padding-left: 0.2em;position: relative;}#sk-container-id-3 div.sk-item {position: relative;z-index: 1;}#sk-container-id-3 div.sk-parallel {display: flex;align-items: stretch;justify-content: center;background-color: white;position: relative;}#sk-container-id-3 div.sk-item::before, #sk-container-id-3 div.sk-parallel-item::before {content: \"\";position: absolute;border-left: 1px solid gray;box-sizing: border-box;top: 0;bottom: 0;left: 50%;z-index: -1;}#sk-container-id-3 div.sk-parallel-item {display: flex;flex-direction: column;z-index: 1;position: relative;background-color: white;}#sk-container-id-3 div.sk-parallel-item:first-child::after {align-self: flex-end;width: 50%;}#sk-container-id-3 div.sk-parallel-item:last-child::after {align-self: flex-start;width: 50%;}#sk-container-id-3 div.sk-parallel-item:only-child::after {width: 0;}#sk-container-id-3 div.sk-dashed-wrapped {border: 1px dashed gray;margin: 0 0.4em 0.5em 0.4em;box-sizing: border-box;padding-bottom: 0.4em;background-color: white;}#sk-container-id-3 div.sk-label label {font-family: monospace;font-weight: bold;display: inline-block;line-height: 1.2em;}#sk-container-id-3 div.sk-label-container {text-align: center;}#sk-container-id-3 div.sk-container {/* jupyter's `normalize.less` sets `[hidden] { display: none; }` but bootstrap.min.css set `[hidden] { display: none !important; }` so we also need the `!important` here to be able to override the default hidden behavior on the sphinx rendered scikit-learn.org. See: https://github.com/scikit-learn/scikit-learn/issues/21755 */display: inline-block !important;position: relative;}#sk-container-id-3 div.sk-text-repr-fallback {display: none;}</style><div id=\"sk-container-id-3\" class=\"sk-top-container\"><div class=\"sk-text-repr-fallback\"><pre>XGBClassifier(base_score=None, booster=None, callbacks=None,\n",
              "              colsample_bylevel=None, colsample_bynode=None,\n",
              "              colsample_bytree=0.9, early_stopping_rounds=None,\n",
              "              enable_categorical=False, eval_metric=None, feature_types=None,\n",
              "              gamma=0, gpu_id=None, grow_policy=None, importance_type=None,\n",
              "              interaction_constraints=None, learning_rate=0.1, max_bin=None,\n",
              "              max_cat_threshold=None, max_cat_to_onehot=None,\n",
              "              max_delta_step=None, max_depth=5, max_leaves=None,\n",
              "              min_child_weight=None, missing=nan, monotone_constraints=None,\n",
              "              n_estimators=100, n_jobs=None, num_parallel_tree=None,\n",
              "              objective=&#x27;multi:softprob&#x27;, predictor=None, ...)</pre><b>In a Jupyter environment, please rerun this cell to show the HTML representation or trust the notebook. <br />On GitHub, the HTML representation is unable to render, please try loading this page with nbviewer.org.</b></div><div class=\"sk-container\" hidden><div class=\"sk-item\"><div class=\"sk-estimator sk-toggleable\"><input class=\"sk-toggleable__control sk-hidden--visually\" id=\"sk-estimator-id-3\" type=\"checkbox\" checked><label for=\"sk-estimator-id-3\" class=\"sk-toggleable__label sk-toggleable__label-arrow\">XGBClassifier</label><div class=\"sk-toggleable__content\"><pre>XGBClassifier(base_score=None, booster=None, callbacks=None,\n",
              "              colsample_bylevel=None, colsample_bynode=None,\n",
              "              colsample_bytree=0.9, early_stopping_rounds=None,\n",
              "              enable_categorical=False, eval_metric=None, feature_types=None,\n",
              "              gamma=0, gpu_id=None, grow_policy=None, importance_type=None,\n",
              "              interaction_constraints=None, learning_rate=0.1, max_bin=None,\n",
              "              max_cat_threshold=None, max_cat_to_onehot=None,\n",
              "              max_delta_step=None, max_depth=5, max_leaves=None,\n",
              "              min_child_weight=None, missing=nan, monotone_constraints=None,\n",
              "              n_estimators=100, n_jobs=None, num_parallel_tree=None,\n",
              "              objective=&#x27;multi:softprob&#x27;, predictor=None, ...)</pre></div></div></div></div></div>"
            ]
          },
          "metadata": {},
          "execution_count": 49
        }
      ]
    },
    {
      "cell_type": "markdown",
      "source": [
        "**Step 3. 결과 검증**"
      ],
      "metadata": {
        "id": "lF9dxSU08sty"
      }
    },
    {
      "cell_type": "code",
      "source": [
        "# 실습 코드 : 값 예측\n",
        "\n",
        "pred_xg = model_xg.predict(X_test)"
      ],
      "metadata": {
        "id": "3jhR3Zw19IG9"
      },
      "execution_count": null,
      "outputs": []
    },
    {
      "cell_type": "code",
      "source": [
        "# 실습 코드 : 성능 평가 (classificatio_report, accuracy_score)\n",
        "\n",
        "print(classification_report(y_test, pred_xg))\n",
        "print(\"Accuracy:\", accuracy_score(y_test, pred_xg))"
      ],
      "metadata": {
        "colab": {
          "base_uri": "https://localhost:8080/"
        },
        "id": "eosXIB1c9Lcf",
        "outputId": "e8100afa-1ef9-4daa-a98e-93e515088c31"
      },
      "execution_count": null,
      "outputs": [
        {
          "output_type": "stream",
          "name": "stdout",
          "text": [
            "              precision    recall  f1-score   support\n",
            "\n",
            "           0       0.81      0.45      0.58        76\n",
            "           1       0.79      0.46      0.58        24\n",
            "           2       0.90      0.98      0.94       500\n",
            "\n",
            "    accuracy                           0.89       600\n",
            "   macro avg       0.83      0.63      0.70       600\n",
            "weighted avg       0.88      0.89      0.88       600\n",
            "\n",
            "Accuracy: 0.8916666666666667\n"
          ]
        }
      ]
    },
    {
      "cell_type": "markdown",
      "source": [
        "# **4. 성능 비교**"
      ],
      "metadata": {
        "id": "puFg1ZjH_xXL"
      }
    },
    {
      "cell_type": "markdown",
      "source": [
        "## **가. 모델별 성능 비교**"
      ],
      "metadata": {
        "id": "F6qRt3wIgN64"
      }
    },
    {
      "cell_type": "code",
      "source": [
        "import matplotlib.pyplot as plt\n",
        "import seaborn as sns\n",
        "\n",
        "my_predictions = {}\n",
        "\n",
        "colors = ['r', 'c', 'm', 'y', 'k', 'khaki', 'teal', 'orchid', 'sandybrown',\n",
        "          'greenyellow', 'dodgerblue', 'deepskyblue', 'rosybrown', 'firebrick',\n",
        "          'deeppink', 'crimson', 'salmon', 'darkred', 'olivedrab', 'olive',\n",
        "          'forestgreen', 'royalblue', 'indigo', 'navy', 'mediumpurple', 'chocolate',\n",
        "          'gold', 'darkorange', 'seagreen', 'turquoise', 'steelblue', 'slategray',\n",
        "          'peru', 'midnightblue', 'slateblue', 'dimgray', 'cadetblue', 'tomato'\n",
        "         ]\n",
        "\n",
        "\n",
        "def acc_eval(name_, pred, actual):\n",
        "    global my_predictions\n",
        "    acc = (pred==actual).mean()\n",
        "    my_predictions[name_] = acc\n",
        "\n",
        "def acc_plot():\n",
        "    global my_predictions\n",
        "    global colors\n",
        "\n",
        "    y_value = sorted(my_predictions.items(), key=lambda x: x[1], reverse=False)\n",
        "    df = pd.DataFrame(y_value, columns=['model', 'acc'])\n",
        "    min_ = 0.5   # df['acc'].min() - 0.05\n",
        "    max_ = 1.05\n",
        "\n",
        "    length = len(df)\n",
        "    plt.figure(figsize=(10, length))\n",
        "    ax = plt.subplot()\n",
        "    ax.set_yticks(np.arange(len(df)))\n",
        "    ax.set_yticklabels(df['model'], fontsize=15)\n",
        "    bars = ax.barh(np.arange(len(df)), df['acc'])\n",
        "\n",
        "    for i, v in enumerate(df['acc']):\n",
        "        idx = np.random.choice(len(colors))\n",
        "        bars[i].set_color(colors[idx])\n",
        "        ax.text(v+0.01, i, str(round(v, 3)), color='k', fontsize=15, fontweight='bold')\n",
        "\n",
        "    plt.title('Accuracy', fontsize=18)\n",
        "    plt.xlim(min_, max_)\n",
        "    plt.show()\n",
        "\n",
        "def remove_model(name_):\n",
        "    global my_predictions\n",
        "    try:\n",
        "        del my_predictions[name_]\n",
        "    except KeyError:\n",
        "        return False\n",
        "    return True"
      ],
      "metadata": {
        "id": "yAQVnDPPv_Vh"
      },
      "execution_count": null,
      "outputs": []
    },
    {
      "cell_type": "code",
      "source": [
        "# 실습 코드 : 성능 비교\n",
        "\n",
        "acc_eval(\"Random Forest\", pred_rf, y_test)\n",
        "acc_eval(\"Decision Tree\", pred_dt, y_test)\n",
        "acc_eval(\"XG Boost\", pred_xg, y_test)\n",
        "acc_plot()"
      ],
      "metadata": {
        "colab": {
          "base_uri": "https://localhost:8080/",
          "height": 319
        },
        "id": "sBcPoO9CA70L",
        "outputId": "22d43201-73a1-41ca-cda3-9aa46bce0146"
      },
      "execution_count": null,
      "outputs": [
        {
          "output_type": "display_data",
          "data": {
            "text/plain": [
              "<Figure size 1000x300 with 1 Axes>"
            ],
            "image/png": "[encoded data removed]"
          },
          "metadata": {}
        }
      ]
    },
    {
      "cell_type": "markdown",
      "source": [
        "## **나. 애완견 건강상태 확인**"
      ],
      "metadata": {
        "id": "aMqfPdG4f6qC"
      }
    },
    {
      "cell_type": "code",
      "source": [
        "# 데이터 프레임 만들기\n",
        "X_my_pet = pd.DataFrame({\n",
        "    'age': [11, 1.0],\n",
        "    'weight': [3.7, 4.0],\n",
        "    'shoulder-height': [23.0, 25.0],\n",
        "    'neck-size': [27.0, 19.0],\n",
        "    'back-length': [23.0, 30.0],\n",
        "    'chest-size': [34.0, 29.0],\n",
        "    'exercise': [2.0, 2.0],\n",
        "    'environment': [1.0, 1.0],\n",
        "    'defecation': [1.0, 1.0],\n",
        "    'food-count': [4.0, 2.0],\n",
        "    'food-amount': [1.25, 1.0],\n",
        "    'snack-amount': [15.0, 0.0],\n",
        "    'food-kind': [1.0, 1.0],\n",
        "    'group_LL': [0.0, 0.0],\n",
        "    'group_LS': [0.0, 0.0],\n",
        "    'group_ML': [1.0, 0.0],\n",
        "    'group_MS': [0.0, 0.0],\n",
        "    'group_SL': [0.0, 1.0],\n",
        "    'group_SS': [0.0, 0.0],\n",
        "    'breed_BEA': [0.0, 0.0],\n",
        "    'breed_BIC': [0.0, 1.0],\n",
        "    'breed_BUL': [0.0, 0.0],\n",
        "    'breed_CHL': [1.0, 0.0],\n",
        "    'breed_CHS': [0.0, 0.0],\n",
        "    'breed_COC': [0.0, 0.0],\n",
        "    'breed_DAL': [0.0, 0.0],\n",
        "    'breed_DAS': [0.0, 0.0],\n",
        "    'breed_DOB': [0.0, 0.0],\n",
        "    'breed_DRI': [0.0, 0.0],\n",
        "    'breed_ETC': [0.0, 0.0],\n",
        "    'breed_GER': [0.0, 0.0],\n",
        "    'breed_GOL': [0.0, 0.0],\n",
        "    'breed_GRE': [0.0, 0.0],\n",
        "    'breed_HOU': [0.0, 0.0],\n",
        "    'breed_HUS': [0.0, 0.0],\n",
        "    'breed_JIN': [0.0, 0.0],\n",
        "    'breed_LAB': [0.0, 0.0],\n",
        "    'breed_MAL': [0.0, 0.0],\n",
        "    'breed_MIL': [0.0, 0.0],\n",
        "    'breed_MIS': [0.0, 0.0],\n",
        "    'breed_MUT': [0.0, 0.0],\n",
        "    'breed_POM': [0.0, 0.0],\n",
        "    'breed_POO': [0.0, 0.0],\n",
        "    'breed_SCH': [0.0, 0.0],\n",
        "    'breed_SHE': [0.0, 0.0],\n",
        "    'breed_TER': [0.0, 0.0],\n",
        "    'breed_WEL': [0.0, 0.0],\n",
        "    'sex_CM': [0.0, 0.0],\n",
        "    'sex_IF': [0.0, 0.0],\n",
        "    'sex_IM': [0.0, 1.0],\n",
        "    'sex_SF': [1.0, 0.0]\n",
        "})"
      ],
      "metadata": {
        "id": "szdG53rAOnq_"
      },
      "execution_count": null,
      "outputs": []
    },
    {
      "cell_type": "code",
      "source": [
        "# 실습 코드 : 건강 상태 예측\n",
        "\n",
        "pred_my_pet = model_xg.predict(X_my_pet)"
      ],
      "metadata": {
        "id": "vNEoLFyU9oyX"
      },
      "execution_count": null,
      "outputs": []
    },
    {
      "cell_type": "code",
      "source": [
        "# 실습 코드 : 건강 상태 확인 (label_decorder.inverse_transform)\n",
        "\n",
        "bcs_my_pet = label_encoder.inverse_transform(pred_my_pet)\n",
        "print(\"BCS:\", bcs_my_pet)"
      ],
      "metadata": {
        "colab": {
          "base_uri": "https://localhost:8080/"
        },
        "id": "511eNS1-U1RW",
        "outputId": "1ab8aa2f-4cd7-49e7-b540-e2a23f2f020e"
      },
      "execution_count": null,
      "outputs": [
        {
          "output_type": "stream",
          "name": "stdout",
          "text": [
            "BCS: ['과체중' '정상']\n"
          ]
        }
      ]
    },
    {
      "cell_type": "markdown",
      "source": [
        "# **번외편. Model 활용하기**"
      ],
      "metadata": {
        "id": "pX9Cmk4J9l1x"
      }
    },
    {
      "cell_type": "code",
      "source": [
        "from sklearn.preprocessing import StandardScaler\n",
        "\n",
        "scaler = StandardScaler()\n",
        "X_train_scaled = scaler.fit_transform(X_train)\n",
        "X_test_scaled = scaler.transform(X_test)"
      ],
      "metadata": {
        "id": "T3LAmiBGwbHb"
      },
      "execution_count": null,
      "outputs": []
    },
    {
      "cell_type": "code",
      "source": [
        "import tensorflow as tf\n",
        "\n",
        "model_dnn = tf.keras.Sequential([\n",
        "    tf.keras.layers.Input(shape=(X_train_scaled.shape[1],)),\n",
        "    tf.keras.layers.Dense(64, activation='relu'),\n",
        "    tf.keras.layers.Dense(3, activation='softmax')  # 클래스 수에 따라 조정\n",
        "])"
      ],
      "metadata": {
        "id": "BW1DpjzvjR3n"
      },
      "execution_count": null,
      "outputs": []
    },
    {
      "cell_type": "code",
      "source": [
        "model_dnn.compile(\n",
        "    optimizer='adam',\n",
        "    loss='sparse_categorical_crossentropy',\n",
        "    metrics=['accuracy']\n",
        ")\n",
        "\n",
        "model_dnn.fit(X_train_scaled, y_train, epochs=10, batch_size=32, validation_split=0.2)"
      ],
      "metadata": {
        "colab": {
          "base_uri": "https://localhost:8080/"
        },
        "id": "ecuVPI2Lwyhr",
        "outputId": "fcf33083-eefb-499d-9d0a-f28dc88622fe"
      },
      "execution_count": null,
      "outputs": [
        {
          "output_type": "stream",
          "name": "stdout",
          "text": [
            "Epoch 1/10\n",
            "60/60 [==============================] - 1s 9ms/step - loss: 0.6817 - accuracy: 0.7958 - val_loss: 0.5001 - val_accuracy: 0.8417\n",
            "Epoch 2/10\n",
            "60/60 [==============================] - 0s 4ms/step - loss: 0.4693 - accuracy: 0.8573 - val_loss: 0.4747 - val_accuracy: 0.8375\n",
            "Epoch 3/10\n",
            "60/60 [==============================] - 0s 4ms/step - loss: 0.4276 - accuracy: 0.8583 - val_loss: 0.4565 - val_accuracy: 0.8375\n",
            "Epoch 4/10\n",
            "60/60 [==============================] - 0s 4ms/step - loss: 0.4004 - accuracy: 0.8635 - val_loss: 0.4481 - val_accuracy: 0.8458\n",
            "Epoch 5/10\n",
            "60/60 [==============================] - 0s 4ms/step - loss: 0.3803 - accuracy: 0.8667 - val_loss: 0.4374 - val_accuracy: 0.8500\n",
            "Epoch 6/10\n",
            "60/60 [==============================] - 0s 4ms/step - loss: 0.3665 - accuracy: 0.8714 - val_loss: 0.4301 - val_accuracy: 0.8521\n",
            "Epoch 7/10\n",
            "60/60 [==============================] - 0s 5ms/step - loss: 0.3558 - accuracy: 0.8719 - val_loss: 0.4248 - val_accuracy: 0.8521\n",
            "Epoch 8/10\n",
            "60/60 [==============================] - 0s 3ms/step - loss: 0.3459 - accuracy: 0.8740 - val_loss: 0.4203 - val_accuracy: 0.8562\n",
            "Epoch 9/10\n",
            "60/60 [==============================] - 0s 5ms/step - loss: 0.3379 - accuracy: 0.8745 - val_loss: 0.4171 - val_accuracy: 0.8604\n",
            "Epoch 10/10\n",
            "60/60 [==============================] - 1s 8ms/step - loss: 0.3291 - accuracy: 0.8760 - val_loss: 0.4126 - val_accuracy: 0.8583\n"
          ]
        },
        {
          "output_type": "execute_result",
          "data": {
            "text/plain": [
              "<keras.callbacks.History at 0x79d5d0987d90>"
            ]
          },
          "metadata": {},
          "execution_count": 59
        }
      ]
    },
    {
      "cell_type": "code",
      "source": [
        "y_pred = model_dnn.predict(X_test_scaled)\n",
        "pred_dnn = y_pred.argmax(axis=-1)\n",
        "\n",
        "print(classification_report(y_test, pred_dnn))\n",
        "print(\"Accuracy:\", accuracy_score(y_test, pred_dnn))\n"
      ],
      "metadata": {
        "colab": {
          "base_uri": "https://localhost:8080/"
        },
        "id": "SRbGYroXxC5u",
        "outputId": "479ad1ee-80d4-4ba2-d15b-fee8bb30844c"
      },
      "execution_count": null,
      "outputs": [
        {
          "output_type": "stream",
          "name": "stdout",
          "text": [
            "19/19 [==============================] - 0s 2ms/step\n",
            "              precision    recall  f1-score   support\n",
            "\n",
            "           0       0.56      0.12      0.20        76\n",
            "           1       0.40      0.08      0.14        24\n",
            "           2       0.85      0.98      0.91       500\n",
            "\n",
            "    accuracy                           0.83       600\n",
            "   macro avg       0.60      0.39      0.41       600\n",
            "weighted avg       0.79      0.83      0.79       600\n",
            "\n",
            "Accuracy: 0.835\n"
          ]
        }
      ]
    },
    {
      "cell_type": "code",
      "source": [
        "# Convert the model to TensorFlow Lite format\n",
        "converter = tf.lite.TFLiteConverter.from_keras_model(model_dnn)\n",
        "tflite_model = converter.convert()\n",
        "\n",
        "# Save the TensorFlow Lite model\n",
        "with open('model_dnn.tflite', 'wb') as f:\n",
        "    f.write(tflite_model)"
      ],
      "metadata": {
        "colab": {
          "base_uri": "https://localhost:8080/"
        },
        "id": "GTXa547Kh41v",
        "outputId": "fa5b083e-22d1-444b-e2df-d34bf592462b"
      },
      "execution_count": null,
      "outputs": [
        {
          "output_type": "stream",
          "name": "stderr",
          "text": [
            "WARNING:absl:Found untraced functions such as _update_step_xla while saving (showing 1 of 1). These functions will not be directly callable after loading.\n"
          ]
        }
      ]
    },
    {
      "cell_type": "code",
      "source": [],
      "metadata": {
        "id": "vFakkAqfiOPK"
      },
      "execution_count": null,
      "outputs": []
    }
  ]
}